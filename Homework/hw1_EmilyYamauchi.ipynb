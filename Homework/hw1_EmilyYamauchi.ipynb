{
 "cells": [
  {
   "cell_type": "markdown",
   "id": "signal-characterization",
   "metadata": {},
   "source": [
    "### Emily Yamauchi\n",
    "#### HW 1"
   ]
  },
  {
   "cell_type": "markdown",
   "id": "reflected-greene",
   "metadata": {},
   "source": [
    "## Exercise 2\n",
    "\n",
    "1. First, download the data. We will again use the `penguins` dataset."
   ]
  },
  {
   "cell_type": "code",
   "execution_count": 1,
   "id": "korean-executive",
   "metadata": {},
   "outputs": [],
   "source": [
    "#setup\n",
    "\n",
    "import pandas as pd\n",
    "import numpy as np\n",
    "from sklearn.model_selection import train_test_split\n",
    "from sklearn import linear_model\n",
    "\n",
    "file = 'https://raw.githubusercontent.com/mwaskom/seaborn-data/master/penguins.csv'\n",
    "penguins = pd.read_csv(file, sep=',', header=0)"
   ]
  },
  {
   "cell_type": "code",
   "execution_count": 2,
   "id": "following-depth",
   "metadata": {},
   "outputs": [
    {
     "data": {
      "text/html": [
       "<div>\n",
       "<style scoped>\n",
       "    .dataframe tbody tr th:only-of-type {\n",
       "        vertical-align: middle;\n",
       "    }\n",
       "\n",
       "    .dataframe tbody tr th {\n",
       "        vertical-align: top;\n",
       "    }\n",
       "\n",
       "    .dataframe thead th {\n",
       "        text-align: right;\n",
       "    }\n",
       "</style>\n",
       "<table border=\"1\" class=\"dataframe\">\n",
       "  <thead>\n",
       "    <tr style=\"text-align: right;\">\n",
       "      <th></th>\n",
       "      <th>bill_length_mm</th>\n",
       "      <th>bill_depth_mm</th>\n",
       "      <th>flipper_length_mm</th>\n",
       "      <th>body_mass_g</th>\n",
       "    </tr>\n",
       "  </thead>\n",
       "  <tbody>\n",
       "    <tr>\n",
       "      <th>count</th>\n",
       "      <td>342.000000</td>\n",
       "      <td>342.000000</td>\n",
       "      <td>342.000000</td>\n",
       "      <td>342.000000</td>\n",
       "    </tr>\n",
       "    <tr>\n",
       "      <th>mean</th>\n",
       "      <td>43.921930</td>\n",
       "      <td>17.151170</td>\n",
       "      <td>200.915205</td>\n",
       "      <td>4201.754386</td>\n",
       "    </tr>\n",
       "    <tr>\n",
       "      <th>std</th>\n",
       "      <td>5.459584</td>\n",
       "      <td>1.974793</td>\n",
       "      <td>14.061714</td>\n",
       "      <td>801.954536</td>\n",
       "    </tr>\n",
       "    <tr>\n",
       "      <th>min</th>\n",
       "      <td>32.100000</td>\n",
       "      <td>13.100000</td>\n",
       "      <td>172.000000</td>\n",
       "      <td>2700.000000</td>\n",
       "    </tr>\n",
       "    <tr>\n",
       "      <th>25%</th>\n",
       "      <td>39.225000</td>\n",
       "      <td>15.600000</td>\n",
       "      <td>190.000000</td>\n",
       "      <td>3550.000000</td>\n",
       "    </tr>\n",
       "    <tr>\n",
       "      <th>50%</th>\n",
       "      <td>44.450000</td>\n",
       "      <td>17.300000</td>\n",
       "      <td>197.000000</td>\n",
       "      <td>4050.000000</td>\n",
       "    </tr>\n",
       "    <tr>\n",
       "      <th>75%</th>\n",
       "      <td>48.500000</td>\n",
       "      <td>18.700000</td>\n",
       "      <td>213.000000</td>\n",
       "      <td>4750.000000</td>\n",
       "    </tr>\n",
       "    <tr>\n",
       "      <th>max</th>\n",
       "      <td>59.600000</td>\n",
       "      <td>21.500000</td>\n",
       "      <td>231.000000</td>\n",
       "      <td>6300.000000</td>\n",
       "    </tr>\n",
       "  </tbody>\n",
       "</table>\n",
       "</div>"
      ],
      "text/plain": [
       "       bill_length_mm  bill_depth_mm  flipper_length_mm  body_mass_g\n",
       "count      342.000000     342.000000         342.000000   342.000000\n",
       "mean        43.921930      17.151170         200.915205  4201.754386\n",
       "std          5.459584       1.974793          14.061714   801.954536\n",
       "min         32.100000      13.100000         172.000000  2700.000000\n",
       "25%         39.225000      15.600000         190.000000  3550.000000\n",
       "50%         44.450000      17.300000         197.000000  4050.000000\n",
       "75%         48.500000      18.700000         213.000000  4750.000000\n",
       "max         59.600000      21.500000         231.000000  6300.000000"
      ]
     },
     "execution_count": 2,
     "metadata": {},
     "output_type": "execute_result"
    }
   ],
   "source": [
    "penguins.describe()"
   ]
  },
  {
   "cell_type": "markdown",
   "id": "false-hardwood",
   "metadata": {},
   "source": [
    "2. Consider a regression problem in which we wish to predict a penguin’s body mass (i.e. the `body_mass_g` feature) from the features `bill_length_mm`, `bill_depth_mm`, and `flipper_length_mm`. Define the features $X$ and regression target $Y$ accordingly. What are their dimensions?"
   ]
  },
  {
   "cell_type": "code",
   "execution_count": 3,
   "id": "educated-hawaii",
   "metadata": {},
   "outputs": [
    {
     "data": {
      "text/plain": [
       "(342, 1)"
      ]
     },
     "execution_count": 3,
     "metadata": {},
     "output_type": "execute_result"
    }
   ],
   "source": [
    "Y = penguins[['body_mass_g']].dropna()\n",
    "Y.shape"
   ]
  },
  {
   "cell_type": "code",
   "execution_count": 4,
   "id": "separate-patio",
   "metadata": {},
   "outputs": [
    {
     "data": {
      "text/plain": [
       "(342, 3)"
      ]
     },
     "execution_count": 4,
     "metadata": {},
     "output_type": "execute_result"
    }
   ],
   "source": [
    "X = penguins[['bill_length_mm', 'bill_depth_mm', 'flipper_length_mm']].dropna()\n",
    "X.shape"
   ]
  },
  {
   "cell_type": "markdown",
   "id": "blind-instrumentation",
   "metadata": {},
   "source": [
    "3. Split $X$ and $Y$ into training and test sets using an 80-20 train/test split."
   ]
  },
  {
   "cell_type": "code",
   "execution_count": 5,
   "id": "wrong-budget",
   "metadata": {},
   "outputs": [
    {
     "data": {
      "text/plain": [
       "((273, 3), (69, 3))"
      ]
     },
     "execution_count": 5,
     "metadata": {},
     "output_type": "execute_result"
    }
   ],
   "source": [
    "X_train, X_test, y_train, y_test = train_test_split(\n",
    "    X,\n",
    "    Y,\n",
    "    test_size = 0.2,\n",
    "    random_state = 0)\n",
    "\n",
    "X_train.shape, X_test.shape"
   ]
  },
  {
   "cell_type": "markdown",
   "id": "optional-polish",
   "metadata": {},
   "source": [
    "4. Instantiate and fit scikit-learn's `Ridge` model on the train data, with $\\lambda$=1.0. Note that scikit-learn uses the notation `alpha` for what we call $\\lambda$."
   ]
  },
  {
   "cell_type": "code",
   "execution_count": 6,
   "id": "quick-company",
   "metadata": {},
   "outputs": [
    {
     "data": {
      "text/plain": [
       "Ridge()"
      ]
     },
     "execution_count": 6,
     "metadata": {},
     "output_type": "execute_result"
    }
   ],
   "source": [
    "reg = linear_model.Ridge(alpha = 1.0)\n",
    "reg.fit(X_train, y_train)"
   ]
  },
  {
   "cell_type": "markdown",
   "id": "hairy-travel",
   "metadata": {},
   "source": [
    "5. We will use the *mean squared error* (MSE) as a measure of model performance. Given a vector of model predictions $\\hat{Y} \\in\\mathbb{R}^n$ and the true corresponding target values *Y*, the MSE is computed as  \n",
    "\n",
    "$$\n",
    "MSE(\\hat{Y},Y) = \\frac{1}{n}\\left\\|\\hat{Y}-Y\\right\\|_2^2\n",
    "$$\n",
    "\n",
    "Implement this function and compute the MSE of the model from step (3) on the training set."
   ]
  },
  {
   "cell_type": "code",
   "execution_count": 7,
   "id": "selected-lexington",
   "metadata": {},
   "outputs": [],
   "source": [
    "def mean_sq_err(y_hat, y):\n",
    "    \"\"\"\n",
    "    Computes the squared errors of the predicted and actual value, divided by n\n",
    "    Returns MSE value\n",
    "    \"\"\"\n",
    "    \n",
    "    n = len(y)\n",
    "    \n",
    "    sum_sq = np.sum(np.square(y_hat - y))\n",
    "        \n",
    "    return sum_sq / n"
   ]
  },
  {
   "cell_type": "code",
   "execution_count": 8,
   "id": "shaped-papua",
   "metadata": {},
   "outputs": [],
   "source": [
    "y_hat = np.mean(Y.values)"
   ]
  },
  {
   "cell_type": "code",
   "execution_count": 9,
   "id": "parallel-complement",
   "metadata": {},
   "outputs": [
    {
     "data": {
      "text/plain": [
       "572136.7862352297"
      ]
     },
     "execution_count": 9,
     "metadata": {},
     "output_type": "execute_result"
    }
   ],
   "source": [
    "mean_sq_err(y_hat, y_test.values)"
   ]
  },
  {
   "cell_type": "markdown",
   "id": "superior-cooperative",
   "metadata": {},
   "source": [
    "6. Now use five-by-two validation to select a value for $\\lambda$ from set of values in the following array:  \n",
    "\n",
    "`lam_vals = np.logspace(-2, 4 ,19)`  \n",
    "\n",
    "The numpy function `logspace()` produces a sequence of logarithmically-spaced values"
   ]
  },
  {
   "cell_type": "code",
   "execution_count": 10,
   "id": "distant-numbers",
   "metadata": {},
   "outputs": [],
   "source": [
    "lam_vals = np.logspace(-2, 4, 19)"
   ]
  },
  {
   "cell_type": "code",
   "execution_count": 11,
   "id": "material-sender",
   "metadata": {},
   "outputs": [],
   "source": [
    "def five_by_two_validation(X_data, Y_data, lamb):\n",
    "    \n",
    "    \"\"\"\n",
    "    Perform a five-by-two validation on the ridge model\n",
    "    For each value of your hyperparameter, repeat the following procedure five times:\n",
    "    -Shuffle the indices of the training data.\n",
    "    -Split the training data evenly into two parts. Call these the \"train\" and \"validation\" sets.\n",
    "    -Train the model using data from the \"train\" set.\n",
    "    -Generate model predictions for the \"validation\" set and record the prediction accuracy.\n",
    "    -Swap the role of the \"train\" and \"validation\" sets and repeat the training and prediction steps above.\n",
    "    Select the hyperparameter value with the best average prediction accuracy over all 10 trials.\n",
    "    \"\"\"\n",
    "    \n",
    "    n = len(X_data)\n",
    "    nrow = int(np.floor(n/2)) # number of rows for splitting the dataset\n",
    "    acc_df = pd.DataFrame(columns = lamb)\n",
    "\n",
    "    \n",
    "    for j in range(len(lamb)):\n",
    "        acc_list = []\n",
    "    \n",
    "        for i in range(5): \n",
    "\n",
    "            #Shuffle index\n",
    "            x_shuffle = X_data.sample(frac = 1)\n",
    "            y_shuffle = Y_data.sample(frac = 1)\n",
    "\n",
    "            #Split training data\n",
    "            x_train = x_shuffle.iloc[0:nrow]\n",
    "            y_train = y_shuffle.iloc[0:nrow]\n",
    "            x_val = x_shuffle.iloc[nrow:n]\n",
    "            y_val = y_shuffle.iloc[nrow:n]\n",
    "\n",
    "            #Train the model using data from the \"train\" set\n",
    "            model = linear_model.Ridge(alpha = lamb[j]).fit(x_train, y_train)\n",
    "\n",
    "            #Generate model predictions for the \"validation\" set and record the prediction accuracy\n",
    "            pred = model.predict(x_val)\n",
    "            acc_list.append(mean_sq_err(np.mean(y_train.values), pred))\n",
    "\n",
    "            #Swap the role of \"train\" and \"validation\" sets\n",
    "            model_swap = linear_model.Ridge(alpha = lamb[j]).fit(x_val, y_val)\n",
    "            pred_swap = model_swap.predict(x_train)\n",
    "            acc_list.append(mean_sq_err(np.mean(y_val.values), pred_swap))\n",
    "            \n",
    "        acc_df[lamb[j]] = acc_list\n",
    "        #res_df = acc_df.transpose().reset_index().rename(columns = {'index':'lambda'})\n",
    "        \n",
    "    return acc_df\n",
    "        "
   ]
  },
  {
   "cell_type": "code",
   "execution_count": 12,
   "id": "configured-modification",
   "metadata": {},
   "outputs": [
    {
     "data": {
      "text/html": [
       "<div>\n",
       "<style scoped>\n",
       "    .dataframe tbody tr th:only-of-type {\n",
       "        vertical-align: middle;\n",
       "    }\n",
       "\n",
       "    .dataframe tbody tr th {\n",
       "        vertical-align: top;\n",
       "    }\n",
       "\n",
       "    .dataframe thead th {\n",
       "        text-align: right;\n",
       "    }\n",
       "</style>\n",
       "<table border=\"1\" class=\"dataframe\">\n",
       "  <thead>\n",
       "    <tr style=\"text-align: right;\">\n",
       "      <th></th>\n",
       "      <th>0.010000</th>\n",
       "      <th>0.021544</th>\n",
       "      <th>0.046416</th>\n",
       "      <th>0.100000</th>\n",
       "      <th>0.215443</th>\n",
       "      <th>0.464159</th>\n",
       "      <th>1.000000</th>\n",
       "      <th>2.154435</th>\n",
       "      <th>4.641589</th>\n",
       "      <th>10.000000</th>\n",
       "      <th>21.544347</th>\n",
       "      <th>46.415888</th>\n",
       "      <th>100.000000</th>\n",
       "      <th>215.443469</th>\n",
       "      <th>464.158883</th>\n",
       "      <th>1000.000000</th>\n",
       "      <th>2154.434690</th>\n",
       "      <th>4641.588834</th>\n",
       "      <th>10000.000000</th>\n",
       "    </tr>\n",
       "  </thead>\n",
       "  <tbody>\n",
       "    <tr>\n",
       "      <th>0</th>\n",
       "      <td>9671.061633</td>\n",
       "      <td>28510.075496</td>\n",
       "      <td>32131.467414</td>\n",
       "      <td>5999.575819</td>\n",
       "      <td>12955.602506</td>\n",
       "      <td>58731.025845</td>\n",
       "      <td>11420.705442</td>\n",
       "      <td>1580.036352</td>\n",
       "      <td>11776.440960</td>\n",
       "      <td>7669.343297</td>\n",
       "      <td>4923.136079</td>\n",
       "      <td>7866.737572</td>\n",
       "      <td>3385.701484</td>\n",
       "      <td>3951.878437</td>\n",
       "      <td>4318.928331</td>\n",
       "      <td>13970.687539</td>\n",
       "      <td>3915.985915</td>\n",
       "      <td>1346.255739</td>\n",
       "      <td>1451.299468</td>\n",
       "    </tr>\n",
       "    <tr>\n",
       "      <th>1</th>\n",
       "      <td>14321.964207</td>\n",
       "      <td>7654.662034</td>\n",
       "      <td>17527.127383</td>\n",
       "      <td>26729.228388</td>\n",
       "      <td>9565.870815</td>\n",
       "      <td>8004.321596</td>\n",
       "      <td>228.863935</td>\n",
       "      <td>21376.717384</td>\n",
       "      <td>13682.983050</td>\n",
       "      <td>1222.286262</td>\n",
       "      <td>2746.780692</td>\n",
       "      <td>58250.318251</td>\n",
       "      <td>40867.181328</td>\n",
       "      <td>19532.770354</td>\n",
       "      <td>7772.177798</td>\n",
       "      <td>3814.350528</td>\n",
       "      <td>2171.376770</td>\n",
       "      <td>9665.484812</td>\n",
       "      <td>2243.932269</td>\n",
       "    </tr>\n",
       "    <tr>\n",
       "      <th>2</th>\n",
       "      <td>8974.441351</td>\n",
       "      <td>20238.539938</td>\n",
       "      <td>24966.559776</td>\n",
       "      <td>2039.742764</td>\n",
       "      <td>3569.143039</td>\n",
       "      <td>8216.736626</td>\n",
       "      <td>8543.030672</td>\n",
       "      <td>33784.082333</td>\n",
       "      <td>6429.293083</td>\n",
       "      <td>6376.273446</td>\n",
       "      <td>2687.885657</td>\n",
       "      <td>6318.990622</td>\n",
       "      <td>8786.949449</td>\n",
       "      <td>30321.360646</td>\n",
       "      <td>26851.836091</td>\n",
       "      <td>13661.057314</td>\n",
       "      <td>8336.150634</td>\n",
       "      <td>6240.277576</td>\n",
       "      <td>2357.391580</td>\n",
       "    </tr>\n",
       "    <tr>\n",
       "      <th>3</th>\n",
       "      <td>12210.861278</td>\n",
       "      <td>7907.349026</td>\n",
       "      <td>33049.554684</td>\n",
       "      <td>10797.404117</td>\n",
       "      <td>3661.788139</td>\n",
       "      <td>6629.884473</td>\n",
       "      <td>5000.439778</td>\n",
       "      <td>1739.507893</td>\n",
       "      <td>16897.026485</td>\n",
       "      <td>11152.818859</td>\n",
       "      <td>11147.013103</td>\n",
       "      <td>14988.162135</td>\n",
       "      <td>4634.397845</td>\n",
       "      <td>20079.238609</td>\n",
       "      <td>5786.529842</td>\n",
       "      <td>7449.245727</td>\n",
       "      <td>16701.502411</td>\n",
       "      <td>3945.750130</td>\n",
       "      <td>2433.854277</td>\n",
       "    </tr>\n",
       "    <tr>\n",
       "      <th>4</th>\n",
       "      <td>21179.261561</td>\n",
       "      <td>17879.277016</td>\n",
       "      <td>15073.422289</td>\n",
       "      <td>18974.807102</td>\n",
       "      <td>3496.001070</td>\n",
       "      <td>20533.636711</td>\n",
       "      <td>16424.289173</td>\n",
       "      <td>4308.850561</td>\n",
       "      <td>31313.951136</td>\n",
       "      <td>29206.309865</td>\n",
       "      <td>8548.639297</td>\n",
       "      <td>3332.863317</td>\n",
       "      <td>15509.053864</td>\n",
       "      <td>6552.396389</td>\n",
       "      <td>4451.834981</td>\n",
       "      <td>11685.347572</td>\n",
       "      <td>5393.660568</td>\n",
       "      <td>1734.390036</td>\n",
       "      <td>17896.780798</td>\n",
       "    </tr>\n",
       "  </tbody>\n",
       "</table>\n",
       "</div>"
      ],
      "text/plain": [
       "   0.010000      0.021544      0.046416      0.100000      0.215443      \\\n",
       "0   9671.061633  28510.075496  32131.467414   5999.575819  12955.602506   \n",
       "1  14321.964207   7654.662034  17527.127383  26729.228388   9565.870815   \n",
       "2   8974.441351  20238.539938  24966.559776   2039.742764   3569.143039   \n",
       "3  12210.861278   7907.349026  33049.554684  10797.404117   3661.788139   \n",
       "4  21179.261561  17879.277016  15073.422289  18974.807102   3496.001070   \n",
       "\n",
       "   0.464159      1.000000      2.154435      4.641589      10.000000     \\\n",
       "0  58731.025845  11420.705442   1580.036352  11776.440960   7669.343297   \n",
       "1   8004.321596    228.863935  21376.717384  13682.983050   1222.286262   \n",
       "2   8216.736626   8543.030672  33784.082333   6429.293083   6376.273446   \n",
       "3   6629.884473   5000.439778   1739.507893  16897.026485  11152.818859   \n",
       "4  20533.636711  16424.289173   4308.850561  31313.951136  29206.309865   \n",
       "\n",
       "   21.544347     46.415888     100.000000    215.443469    464.158883    \\\n",
       "0   4923.136079   7866.737572   3385.701484   3951.878437   4318.928331   \n",
       "1   2746.780692  58250.318251  40867.181328  19532.770354   7772.177798   \n",
       "2   2687.885657   6318.990622   8786.949449  30321.360646  26851.836091   \n",
       "3  11147.013103  14988.162135   4634.397845  20079.238609   5786.529842   \n",
       "4   8548.639297   3332.863317  15509.053864   6552.396389   4451.834981   \n",
       "\n",
       "   1000.000000   2154.434690   4641.588834   10000.000000  \n",
       "0  13970.687539   3915.985915   1346.255739   1451.299468  \n",
       "1   3814.350528   2171.376770   9665.484812   2243.932269  \n",
       "2  13661.057314   8336.150634   6240.277576   2357.391580  \n",
       "3   7449.245727  16701.502411   3945.750130   2433.854277  \n",
       "4  11685.347572   5393.660568   1734.390036  17896.780798  "
      ]
     },
     "execution_count": 12,
     "metadata": {},
     "output_type": "execute_result"
    }
   ],
   "source": [
    "lam_df = five_by_two_validation(X_train, y_train, lam_vals)\n",
    "lam_df.head()"
   ]
  },
  {
   "cell_type": "markdown",
   "id": "modern-heath",
   "metadata": {},
   "source": [
    "7. Report the best-performing choice of $\\lambda^*$ according to the validation procedure."
   ]
  },
  {
   "cell_type": "code",
   "execution_count": 13,
   "id": "labeled-relation",
   "metadata": {},
   "outputs": [],
   "source": [
    "def get_min_lambda(X_data, y_data, lamb):\n",
    "    \"\"\"\n",
    "    Perform 5x2 validation on training set\n",
    "    Return the lambda value that results in best performing choice\n",
    "    \"\"\"\n",
    "    \n",
    "    lam_df = five_by_two_validation(X_data, y_data, lamb)\n",
    "    min_index = np.argmin(lam_df.min())\n",
    "    \n",
    "    return lam_df.columns[min_index]"
   ]
  },
  {
   "cell_type": "code",
   "execution_count": 14,
   "id": "alert-partnership",
   "metadata": {},
   "outputs": [
    {
     "data": {
      "text/plain": [
       "4641.588833612773"
      ]
     },
     "execution_count": 14,
     "metadata": {},
     "output_type": "execute_result"
    }
   ],
   "source": [
    "get_min_lambda(X_train, y_train, lam_vals)"
   ]
  },
  {
   "cell_type": "markdown",
   "id": "addressed-petroleum",
   "metadata": {},
   "source": [
    "8. Fit a ridge regression model to the entire training data using this choice of regularization parameter."
   ]
  },
  {
   "cell_type": "code",
   "execution_count": 15,
   "id": "final-organic",
   "metadata": {},
   "outputs": [],
   "source": [
    "lam_best = get_min_lambda(X_train, y_train, lam_vals)\n",
    "reg_best = linear_model.Ridge(alpha = lam_best).fit(X_train, y_train)\n",
    "pred_best = reg_best.predict(X_test)"
   ]
  },
  {
   "cell_type": "markdown",
   "id": "falling-reproduction",
   "metadata": {},
   "source": [
    "9. Compute and report the MSE of the above model on the test set"
   ]
  },
  {
   "cell_type": "code",
   "execution_count": 16,
   "id": "bearing-float",
   "metadata": {},
   "outputs": [
    {
     "data": {
      "text/plain": [
       "334875.6827939941"
      ]
     },
     "execution_count": 16,
     "metadata": {},
     "output_type": "execute_result"
    }
   ],
   "source": [
    "mean_sq_err(np.mean(y_test.values), pred_best)"
   ]
  }
 ],
 "metadata": {
  "kernelspec": {
   "display_name": "Python [conda env:DATA558] *",
   "language": "python",
   "name": "conda-env-DATA558-py"
  },
  "language_info": {
   "codemirror_mode": {
    "name": "ipython",
    "version": 3
   },
   "file_extension": ".py",
   "mimetype": "text/x-python",
   "name": "python",
   "nbconvert_exporter": "python",
   "pygments_lexer": "ipython3",
   "version": "3.7.10"
  }
 },
 "nbformat": 4,
 "nbformat_minor": 5
}
