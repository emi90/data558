{
 "cells": [
  {
   "cell_type": "markdown",
   "id": "cardiac-prague",
   "metadata": {},
   "source": [
    "### DATA558 HW2\n",
    "Emily Yamauchi"
   ]
  },
  {
   "cell_type": "code",
   "execution_count": 1,
   "id": "retained-batman",
   "metadata": {},
   "outputs": [],
   "source": [
    "import numpy as np\n",
    "import pandas as pd\n",
    "from sklearn.model_selection import train_test_split\n",
    "from sklearn import preprocessing\n",
    "from sklearn.linear_model import LogisticRegression, LogisticRegressionCV"
   ]
  },
  {
   "cell_type": "markdown",
   "id": "abroad-vienna",
   "metadata": {},
   "source": [
    "Objective function:\n",
    "\n",
    "$$\n",
    "\\begin{align}\n",
    "F(\\beta)=\\frac{1}{n}\\sum_{i=1}^n \\log(1+\\exp(-y_ix_i^\\top \\beta)) + \\lambda||\\beta||_2^2\n",
    "\\end{align}\n",
    "$$\n",
    "\n",
    "Find \n",
    "\n",
    "$$\n",
    " F(\\beta^*)=\\min_{\\beta \\in \\mathbb{R}^d}F(\\beta)\n",
    "$$"
   ]
  },
  {
   "cell_type": "code",
   "execution_count": 2,
   "id": "exotic-contest",
   "metadata": {},
   "outputs": [],
   "source": [
    "def obj_function(X, y, beta, lamb):\n",
    "    \n",
    "    n = len(X)\n",
    "    f1 = np.sum(np.log(1+np.exp(-y*np.dot(beta, X.T)))) * (1/n)\n",
    "    f2 = np.linalg.norm(beta) ** 2*lamb\n",
    "    \n",
    "    return f1 + f2"
   ]
  },
  {
   "cell_type": "markdown",
   "id": "polished-tunisia",
   "metadata": {},
   "source": [
    "1. Assume that $d=1$ and $n=1$. The sample is then of size 1 and boils down to just $(x, y)$. The function $F$ writes simply as\n",
    "\n",
    "$$\n",
    "F(\\beta) = log(1+\\exp(-yx\\beta)) + \\lambda\\beta^2\n",
    "$$\n",
    "\n",
    "Compute and write down the gradient $\\nabla F$ of $F$."
   ]
  },
  {
   "cell_type": "markdown",
   "id": "purple-majority",
   "metadata": {},
   "source": [
    "$$\\begin{align}\n",
    "F(\\beta) &= log(1+\\exp(-yx\\beta)) + \\lambda\\beta^2 \\\\\n",
    "\\frac{d}{d\\beta}F(\\beta)&=\\frac{1}{1+ \\exp(-yx\\beta)}\\times \\exp(-yx\\beta) \\times (-yx) + 2\\lambda\\beta\\\\\n",
    "&=-yx\\frac{\\exp(-yx\\beta)}{1+\\exp(-yx\\beta)} + 2\\lambda\\beta\\\\\n",
    "\\end{align}\n",
    "$$"
   ]
  },
  {
   "cell_type": "code",
   "execution_count": 3,
   "id": "taken-premises",
   "metadata": {},
   "outputs": [],
   "source": [
    "def compgrad_1(X, y, beta, lamb):\n",
    "    \n",
    "    num = np.exp(-y*X*beta)\n",
    "    denom = 1+np.exp(-y*X*beta)\n",
    "    \n",
    "    #return -y*X*(np.exp(-y*x*beta)/1+np.exp(-y*x*beta))+2*lamb*beta\n",
    "    \n",
    "    return (-y*X*num/denom) + (2*lamb*beta)"
   ]
  },
  {
   "cell_type": "markdown",
   "id": "attractive-resource",
   "metadata": {},
   "source": [
    "2. Assume now that $d>1$ and $n>1$. Using the previous result and the linearity of differentiation, compute and write down the gradient $\\nabla F(\\beta)$ of $F$."
   ]
  },
  {
   "cell_type": "markdown",
   "id": "stopped-malpractice",
   "metadata": {},
   "source": [
    "$$\\begin{align}\n",
    "F(\\beta)&=\\frac{1}{n}\\sum_i^n\\log(1+\\exp(-y_ix_i^\\top \\beta)) + \\lambda||\\beta||_2^2 \\\\\n",
    "\\nabla F(\\beta)&=\\frac{1}{n}\\sum_i^n\\nabla\\underbrace{ \\log(1+\\exp(-y_ix_i^\\top \\beta))}_1 + \\underbrace{\\nabla \\lambda||\\beta||_2^2}_2 \\\\\n",
    "\\end{align}\n",
    "$$\n",
    "1.\n",
    "$$\n",
    "\\begin{align}\n",
    "\\scriptsize{\\frac{d}{du}\\log(u(x))=\\frac{1}{\\log(u)}\\times u'(x)} \\\\\n",
    "\\nabla\\log(1+\\exp(-y_ix_i^\\top \\beta))&=\\frac{1}{1+\\exp(-y_ix_i^\\top \\beta)}\\times \\exp(-y_ix_i^\\top \\beta) \\times -y_ix_i \\\\\n",
    "&=-y_ix_i\\times \\frac{\\exp(-y_ix_i^\\top \\beta)}{1+\\exp(-y_ix_i^\\top \\beta)}\n",
    "\\end{align}$$\n",
    "2.\n",
    "$$\n",
    "\\begin{align}\n",
    "\\nabla \\lambda||\\beta||_2^2&=\\lambda \\beta^\\top \\beta\\\\\n",
    "&=2\\lambda\\beta\n",
    "\\end{align}\n",
    "$$\n",
    "Bringing both components together\n",
    "$$\n",
    "\\begin{align}\n",
    "\\nabla F(\\beta)=\\frac{1}{n}\\sum_i^n-y_ix_i\\frac{\\exp(-y_ix_i^\\top \\beta)}{1+\\exp(-y_ix_i^\\top \\beta)}+2\\lambda\\beta\n",
    "\\end{align}\n",
    "$$"
   ]
  },
  {
   "cell_type": "markdown",
   "id": "important-circular",
   "metadata": {},
   "source": [
    "3. Consider the `smarket` dataset from *Introduction to Statistical Learning*. Download the data: \n",
    "    \n",
    "    This dataset contains trading information for the S&P 500 over 1250 days from 2001 to 2005. For each date we have the percent return from the previous 5 days (the `Lag` features), the volume of shares traded (in billions), the percent return on the date itself (`Today`), and whether the market moved up or down (`Direction`). We will apply our gradient descent and fast gradient descent algorithms to fit a logistic regression model for the binary outcome `Direction` based on the features `Lag1`, `Lag2`, and `Volume`."
   ]
  },
  {
   "cell_type": "code",
   "execution_count": 4,
   "id": "alone-moment",
   "metadata": {},
   "outputs": [
    {
     "data": {
      "text/html": [
       "<div>\n",
       "<style scoped>\n",
       "    .dataframe tbody tr th:only-of-type {\n",
       "        vertical-align: middle;\n",
       "    }\n",
       "\n",
       "    .dataframe tbody tr th {\n",
       "        vertical-align: top;\n",
       "    }\n",
       "\n",
       "    .dataframe thead th {\n",
       "        text-align: right;\n",
       "    }\n",
       "</style>\n",
       "<table border=\"1\" class=\"dataframe\">\n",
       "  <thead>\n",
       "    <tr style=\"text-align: right;\">\n",
       "      <th></th>\n",
       "      <th>Year</th>\n",
       "      <th>Lag1</th>\n",
       "      <th>Lag2</th>\n",
       "      <th>Lag3</th>\n",
       "      <th>Lag4</th>\n",
       "      <th>Lag5</th>\n",
       "      <th>Volume</th>\n",
       "      <th>Today</th>\n",
       "      <th>Direction</th>\n",
       "    </tr>\n",
       "  </thead>\n",
       "  <tbody>\n",
       "    <tr>\n",
       "      <th>1</th>\n",
       "      <td>2001</td>\n",
       "      <td>0.381</td>\n",
       "      <td>-0.192</td>\n",
       "      <td>-2.624</td>\n",
       "      <td>-1.055</td>\n",
       "      <td>5.010</td>\n",
       "      <td>1.1913</td>\n",
       "      <td>0.959</td>\n",
       "      <td>Up</td>\n",
       "    </tr>\n",
       "    <tr>\n",
       "      <th>2</th>\n",
       "      <td>2001</td>\n",
       "      <td>0.959</td>\n",
       "      <td>0.381</td>\n",
       "      <td>-0.192</td>\n",
       "      <td>-2.624</td>\n",
       "      <td>-1.055</td>\n",
       "      <td>1.2965</td>\n",
       "      <td>1.032</td>\n",
       "      <td>Up</td>\n",
       "    </tr>\n",
       "    <tr>\n",
       "      <th>3</th>\n",
       "      <td>2001</td>\n",
       "      <td>1.032</td>\n",
       "      <td>0.959</td>\n",
       "      <td>0.381</td>\n",
       "      <td>-0.192</td>\n",
       "      <td>-2.624</td>\n",
       "      <td>1.4112</td>\n",
       "      <td>-0.623</td>\n",
       "      <td>Down</td>\n",
       "    </tr>\n",
       "    <tr>\n",
       "      <th>4</th>\n",
       "      <td>2001</td>\n",
       "      <td>-0.623</td>\n",
       "      <td>1.032</td>\n",
       "      <td>0.959</td>\n",
       "      <td>0.381</td>\n",
       "      <td>-0.192</td>\n",
       "      <td>1.2760</td>\n",
       "      <td>0.614</td>\n",
       "      <td>Up</td>\n",
       "    </tr>\n",
       "    <tr>\n",
       "      <th>5</th>\n",
       "      <td>2001</td>\n",
       "      <td>0.614</td>\n",
       "      <td>-0.623</td>\n",
       "      <td>1.032</td>\n",
       "      <td>0.959</td>\n",
       "      <td>0.381</td>\n",
       "      <td>1.2057</td>\n",
       "      <td>0.213</td>\n",
       "      <td>Up</td>\n",
       "    </tr>\n",
       "  </tbody>\n",
       "</table>\n",
       "</div>"
      ],
      "text/plain": [
       "   Year   Lag1   Lag2   Lag3   Lag4   Lag5  Volume  Today Direction\n",
       "1  2001  0.381 -0.192 -2.624 -1.055  5.010  1.1913  0.959        Up\n",
       "2  2001  0.959  0.381 -0.192 -2.624 -1.055  1.2965  1.032        Up\n",
       "3  2001  1.032  0.959  0.381 -0.192 -2.624  1.4112 -0.623      Down\n",
       "4  2001 -0.623  1.032  0.959  0.381 -0.192  1.2760  0.614        Up\n",
       "5  2001  0.614 -0.623  1.032  0.959  0.381  1.2057  0.213        Up"
      ]
     },
     "execution_count": 4,
     "metadata": {},
     "output_type": "execute_result"
    }
   ],
   "source": [
    "file = 'https://raw.githubusercontent.com/JWarmenhoven/ISLR-python/master/Notebooks/Data/Smarket.csv'\n",
    "smarket = pd.read_csv(file, sep=',', header=0, index_col=0)\n",
    "smarket.head()"
   ]
  },
  {
   "cell_type": "markdown",
   "id": "substantial-hammer",
   "metadata": {},
   "source": [
    "4. Construct the matrix of the features and response. Transform the response to a vector with entries in $\\{+1,-1\\}$, corresponding to whether `Direction` is 'Up' or 'Down', respectively. Split the data into train and test sets (80/20 split) and standardize the features."
   ]
  },
  {
   "cell_type": "code",
   "execution_count": 5,
   "id": "broadband-evans",
   "metadata": {},
   "outputs": [
    {
     "name": "stdout",
     "output_type": "stream",
     "text": [
      "X.shape:  (1250, 3)\n",
      "y.shape:  (1250,)\n"
     ]
    }
   ],
   "source": [
    "smarket['response'] = [1 if x == 'Up' else -1 for x in smarket['Direction']]\n",
    "\n",
    "X = np.array(smarket.iloc[:,np.r_[1:3,6]])\n",
    "y = np.array(smarket.response)\n",
    "\n",
    "print('X.shape: ', X.shape)\n",
    "print('y.shape: ', y.shape)"
   ]
  },
  {
   "cell_type": "code",
   "execution_count": 6,
   "id": "voluntary-anger",
   "metadata": {},
   "outputs": [
    {
     "name": "stdout",
     "output_type": "stream",
     "text": [
      "X_train.shape:  (1000, 3)\n",
      "X_test.shape:  (250, 3)\n",
      "y_train.shape:  (1000,)\n",
      "y_test.shape:  (250,)\n"
     ]
    }
   ],
   "source": [
    "X_train, X_test, y_train, y_test = train_test_split(X, y, train_size = 0.8)\n",
    "\n",
    "print('X_train.shape: ', X_train.shape)\n",
    "print('X_test.shape: ', X_test.shape)\n",
    "print('y_train.shape: ', y_train.shape)\n",
    "print('y_test.shape: ', y_test.shape)"
   ]
  },
  {
   "cell_type": "code",
   "execution_count": 37,
   "id": "second-adult",
   "metadata": {},
   "outputs": [
    {
     "name": "stdout",
     "output_type": "stream",
     "text": [
      "Xs.shape:  (1000, 3)\n",
      "Xs_test.shape:  (250, 3)\n"
     ]
    }
   ],
   "source": [
    "Xscale = preprocessing.StandardScaler().fit(X_train)\n",
    "Xscale_test = preprocessing.StandardScaler().fit(X_test)\n",
    "Xs = Xscale.transform(X_train)\n",
    "Xs_test = Xscale_test.transform(X_test)\n",
    "\n",
    "print('Xs.shape: ', Xs.shape)\n",
    "print('Xs_test.shape: ', Xs_test.shape)"
   ]
  },
  {
   "cell_type": "markdown",
   "id": "boring-belfast",
   "metadata": {},
   "source": [
    "5. Write a function *computegrad* that computes and returns $\\nabla F(\\beta)$ for any $\\beta$."
   ]
  },
  {
   "cell_type": "code",
   "execution_count": 8,
   "id": "municipal-relative",
   "metadata": {},
   "outputs": [],
   "source": [
    "def computegrad(X, y, beta, lamb):\n",
    "    \"\"\"\n",
    "    Compute the gradient of the objective function for n>1 and d>1\n",
    "    \n",
    "    Params:\n",
    "    X : nxd matrx\n",
    "    y : nx1 matrix\n",
    "    beta : 1xd matrix\n",
    "    lamb: float\n",
    "    \"\"\"\n",
    "    n = X.shape[0]\n",
    "\n",
    "    exp = np.exp(np.multiply(-y, np.dot(X,beta)))\n",
    "    Q = np.diag(exp/(1+exp))\n",
    "    f1 = (X.T.dot(Q.dot(y))) * (-1/n) \n",
    "    f2 = 2*lamb*beta\n",
    "    \n",
    "    return f1 + f2"
   ]
  },
  {
   "cell_type": "markdown",
   "id": "patent-office",
   "metadata": {},
   "source": [
    "6. Write a function *backtracking* that implements the backtracking rule."
   ]
  },
  {
   "cell_type": "code",
   "execution_count": 9,
   "id": "minute-martin",
   "metadata": {},
   "outputs": [],
   "source": [
    "def backtracking(eta_init, decay_rate, prop_constant, f, f_grad, beta, p):\n",
    "    \n",
    "    eta = eta_init\n",
    "    \n",
    "    def sufficient_decrease(eta):\n",
    "        lhs = f(beta + eta * p) - f(beta)\n",
    "        rhs = prop_constant * eta * np.dot(f_grad(beta), p)\n",
    "        #print('lhs: ', lhs, ' rhs: ', rhs)\n",
    "        return lhs <= rhs\n",
    "    \n",
    "    while not sufficient_decrease(eta):\n",
    "        eta *= decay_rate\n",
    "        \n",
    "    return eta"
   ]
  },
  {
   "cell_type": "markdown",
   "id": "progressive-sport",
   "metadata": {},
   "source": [
    "7. Write a function *graddescent* that implements the gradient descent algorithm with the backpacking rule to tune the step-size. The function *graddescent* calls the *computegrad* and *backtracking* as subroutines. The function takes as input the initial point, the initial step-size value, and the target accuracy $\\epsilon$. The stopping criterion is $||\\nabla F||\\leq \\epsilon$."
   ]
  },
  {
   "cell_type": "code",
   "execution_count": 10,
   "id": "found-israeli",
   "metadata": {},
   "outputs": [],
   "source": [
    "def graddescent(beta_init, eta_init, decay_rate, prop_constant, target_accuracy, lamb):\n",
    "    \n",
    "    beta_t = beta_init\n",
    "    betas = [beta_t]\n",
    "    eta = eta_init\n",
    "    \n",
    "    def f(beta):\n",
    "        \n",
    "        return obj_function(Xs, y_train, beta, lamb)\n",
    "    \n",
    "    def f_grad(beta):\n",
    "        \n",
    "        return computegrad(Xs, y_train, beta, lamb)\n",
    "    \n",
    "    f_norm = np.linalg.norm(f_grad(beta_t))\n",
    "    \n",
    "    while not f_norm <= target_accuracy:\n",
    "        \n",
    "        #p = -f_grad(beta_t)\n",
    "        eta = backtracking(eta_init, decay_rate, prop_constant, f, f_grad, beta_t, -f_grad(beta_t))\n",
    "        beta_t = beta_t + eta * -f_grad(beta_t)\n",
    "        #print('eta: ', eta)\n",
    "        betas.append(beta_t)\n",
    "        #print(beta_t)\n",
    "        f_norm = np.linalg.norm(f_grad(beta_t))\n",
    "        #print('fnorm: ',f_norm)\n",
    "    \n",
    "    return betas    "
   ]
  },
  {
   "cell_type": "code",
   "execution_count": 11,
   "id": "active-employee",
   "metadata": {},
   "outputs": [
    {
     "data": {
      "text/plain": [
       "[array([1., 1., 1.]),\n",
       " array([-0.16101239, -0.15484228, -0.15648769]),\n",
       " array([0.02762503, 0.02062928, 0.04426749]),\n",
       " array([-0.01811298, -0.01751061, -0.00394576])]"
      ]
     },
     "execution_count": 11,
     "metadata": {},
     "output_type": "execute_result"
    }
   ],
   "source": [
    "eta_init = 1\n",
    "decay_rate = 0.8\n",
    "beta_init = np.ones(3)\n",
    "prop_constant = 0.3\n",
    "#1/(np.max(np.linalg.eigh((1/len(Xs))*np.dot(Xs.T,Xs))[0])+lamb)\n",
    "lamb = 0.5\n",
    "target_accuracy = 0.05\n",
    "\n",
    "graddescent(beta_init, eta_init, decay_rate, prop_constant, target_accuracy, lamb)"
   ]
  },
  {
   "cell_type": "code",
   "execution_count": 12,
   "id": "graduate-ghana",
   "metadata": {},
   "outputs": [
    {
     "data": {
      "text/plain": [
       "array([1.16101239, 1.15484228, 1.15648769])"
      ]
     },
     "execution_count": 12,
     "metadata": {},
     "output_type": "execute_result"
    }
   ],
   "source": [
    "def f(beta):\n",
    "    return obj_function(Xs, y_train, beta, lamb)\n",
    "\n",
    "def f_grad(beta):\n",
    "    return computegrad(Xs, y_train, beta, lamb)\n",
    "\n",
    "f_grad(beta_init)"
   ]
  },
  {
   "cell_type": "code",
   "execution_count": 13,
   "id": "interracial-toilet",
   "metadata": {},
   "outputs": [],
   "source": [
    "L = 1/(np.max(np.linalg.eigh((1/len(Xs))*np.dot(Xs.T,Xs))[0])+lamb)"
   ]
  },
  {
   "cell_type": "code",
   "execution_count": 14,
   "id": "apart-neutral",
   "metadata": {},
   "outputs": [
    {
     "data": {
      "text/plain": [
       "[array([1., 1., 1.]),\n",
       " array([-0.16101239, -0.15484228, -0.15648769]),\n",
       " array([0.02762503, 0.02062928, 0.04426749]),\n",
       " array([-0.01811298, -0.01751061, -0.00394576])]"
      ]
     },
     "execution_count": 14,
     "metadata": {},
     "output_type": "execute_result"
    }
   ],
   "source": [
    "graddescent(beta_init, eta_init, decay_rate, prop_constant, target_accuracy, lamb)"
   ]
  },
  {
   "cell_type": "markdown",
   "id": "subject-hunter",
   "metadata": {},
   "source": [
    "8. Write a function *fastgradalgo* that implements the fast gradient algorithm described in Algorithm ???. The function *fastgradalgo* calls *computegrad* and *backtracking* as subroutines. The function takes as input the initial step-size value for the backtracking rule and the target accuracy $\\epsilon$. The stopping criterion is $||\\nabla F||\\leq\\epsilon$."
   ]
  },
  {
   "cell_type": "code",
   "execution_count": 15,
   "id": "floppy-actor",
   "metadata": {},
   "outputs": [],
   "source": [
    "def fastgradalgo(beta_init, eta_init, decay_rate, prop_constant, target_accuracy, lamb):\n",
    "    \n",
    "    eta = eta_init\n",
    "    beta_t = beta_init\n",
    "    betas = [beta_t]\n",
    "    theta_t = np.zeros(beta_t.shape[0])\n",
    "    t = 0\n",
    "    \n",
    "    def f(beta):\n",
    "        \n",
    "        return obj_function(Xs, y_train, beta, lamb)\n",
    "    \n",
    "    def f_grad(beta):\n",
    "        \n",
    "        return computegrad(Xs, y_train, beta, lamb)\n",
    "    \n",
    "    f_norm = np.linalg.norm(f_grad(beta_t))\n",
    "    \n",
    "    while not f_norm <= target_accuracy:\n",
    "        \n",
    "        beta_1 = theta_t - eta * f_grad(theta_t)\n",
    "        theta_t = beta_1 + (t/(t+3)) * (beta_1 - beta_t)\n",
    "        betas.append(beta_1)\n",
    "        eta = backtracking(eta, decay_rate, prop_constant, f, f_grad, beta_t, -f_grad(beta_t))\n",
    "        beta_t = beta_1\n",
    "        t += 1\n",
    "        f_norm = np.linalg.norm(f_grad(beta_t))\n",
    "        #print('eta: ', eta)\n",
    "        #print('theta_t', theta_t)\n",
    "        #print('fnorm: ',f_norm)\n",
    "        #print('f_norm: ', f_norm)\n",
    "        \n",
    "    return betas"
   ]
  },
  {
   "cell_type": "code",
   "execution_count": 16,
   "id": "behavioral-teach",
   "metadata": {},
   "outputs": [],
   "source": [
    "#fastgradalgo(beta_init, eta_init, decay_rate, prop_constant, target_accuracy, lamb)"
   ]
  },
  {
   "cell_type": "markdown",
   "id": "patient-cisco",
   "metadata": {},
   "source": [
    "9. Initialize the step size to $\\eta_0=0.1$. Set the target accuracy to $\\epsilon=1\\times10^{-5}$ Run *graddescent* and *fastgradalgo* on the training set of the smarket dataset for $\\lambda=0.5$. Plot the curve of the objective values $F(\\beta_t)$ for both algorithms versus the iteration counter $t$ (use different colors). What do you observe? Note: Remember that the scikit-learn penalizes the logistic regression objective differently from our formulation above. You will need to find the setting of their $C$ parameter that corresponds to a given choice of $\\lambda$ in our definition."
   ]
  },
  {
   "cell_type": "code",
   "execution_count": 17,
   "id": "pending-charity",
   "metadata": {},
   "outputs": [],
   "source": [
    "import matplotlib.pyplot as plt"
   ]
  },
  {
   "cell_type": "code",
   "execution_count": 18,
   "id": "super-ambassador",
   "metadata": {},
   "outputs": [],
   "source": [
    "eta_init = 0.1\n",
    "decay_rate = 0.8\n",
    "beta_init = np.zeros(3)\n",
    "prop_constant = 0.5\n",
    "#1/(np.max(np.linalg.eigh((1/len(Xs))*np.dot(Xs.T,Xs))[0])+lamb)\n",
    "lamb = 0.5\n",
    "target_accuracy = 10**-5"
   ]
  },
  {
   "cell_type": "code",
   "execution_count": 19,
   "id": "suspected-yugoslavia",
   "metadata": {},
   "outputs": [],
   "source": [
    "#fastgradalgo(beta_init, eta_init, decay_rate, prop_constant, target_accuracy, lamb)\n",
    "grad_b = graddescent(beta_init, eta_init, decay_rate, prop_constant, target_accuracy, lamb)\n",
    "grad_obj = [obj_function(Xs, y_train, b, lamb) for b in grad_b]\n",
    "\n",
    "fast_b = fastgradalgo(beta_init, eta_init, decay_rate, prop_constant, target_accuracy, lamb)\n",
    "fast_obj = [obj_function(Xs, y_train, b, lamb) for b in fast_b]"
   ]
  },
  {
   "cell_type": "code",
   "execution_count": 20,
   "id": "satisfactory-interface",
   "metadata": {},
   "outputs": [
    {
     "data": {
      "text/plain": [
       "<matplotlib.legend.Legend at 0x7f2f932f7d50>"
      ]
     },
     "execution_count": 20,
     "metadata": {},
     "output_type": "execute_result"
    },
    {
     "data": {
      "image/png": "[encoded data removed]",
      "text/plain": [
       "<Figure size 432x288 with 1 Axes>"
      ]
     },
     "metadata": {
      "needs_background": "light"
     },
     "output_type": "display_data"
    }
   ],
   "source": [
    "fig = plt.figure()\n",
    "ax = fig.add_subplot()\n",
    "ax.plot(fast_obj, c = 'b', label = 'fast_obj')\n",
    "ax.plot(grad_obj, c = 'r', label = 'grad_obj')\n",
    "ax.set_title('Objective function value vs iteration counter')\n",
    "ax.set_xlabel('iterations')\n",
    "ax.set_ylabel('F(beta)')\n",
    "ax.legend()"
   ]
  },
  {
   "cell_type": "markdown",
   "id": "allied-center",
   "metadata": {},
   "source": [
    "The fast gradient algorithm converges quickly whereas the gradient descent algorithm converges much more slowly (~20 iterations)  \n",
    "\n",
    "*question- is this suppose to compare fastalgo vs sklearn?*"
   ]
  },
  {
   "cell_type": "markdown",
   "id": "through-services",
   "metadata": {},
   "source": [
    "From *scikit-learn* docs:  \n",
    "\n",
    "As an optimization problem, binary class \n",
    " penalized logistic regression minimizes the following cost function:\n",
    "$\\min_{w, c} \\frac{1}{2}w^T w + C \\sum_{i=1}^n \\log(\\exp(- y_i (X_i^T w + c)) + 1) .$  \n",
    "[source](https://scikit-learn.org/stable/modules/linear_model.html#logistic-regression)  \n",
    "$C = \\frac{1}{2\\lambda n}$"
   ]
  },
  {
   "cell_type": "markdown",
   "id": "competitive-trinidad",
   "metadata": {},
   "source": [
    "10. Denote by $\\beta_T$ the final iterate of your fast gradient algorithm. Compare $\\beta_T$ to the $\\beta^*$ found by *scikit-learn*. Compare the objective value for $\\beta_T$ to the one for $\\beta^*$. What do you observe?"
   ]
  },
  {
   "cell_type": "code",
   "execution_count": 21,
   "id": "heavy-recycling",
   "metadata": {},
   "outputs": [
    {
     "name": "stdout",
     "output_type": "stream",
     "text": [
      "b_t:  [-0.00900919 -0.0106515   0.00552911]\n",
      "obj_t:  0.6930070389003283\n"
     ]
    }
   ],
   "source": [
    "b_t = fast_b[-1]\n",
    "obj_t = fast_obj[-1]\n",
    "\n",
    "print('b_t: ', b_t)\n",
    "print('obj_t: ', obj_t)"
   ]
  },
  {
   "cell_type": "code",
   "execution_count": 22,
   "id": "qualified-stamp",
   "metadata": {},
   "outputs": [],
   "source": [
    "n = Xs.shape[0]\n",
    "c = 1/(2*lamb*n)\n",
    "m = LogisticRegression(C = c).fit(Xs, y_train)\n",
    "sk_beta = m.coef_\n",
    "sk_obj = obj_function(Xs, y_train, sk_beta, lamb)"
   ]
  },
  {
   "cell_type": "code",
   "execution_count": 23,
   "id": "directed-apollo",
   "metadata": {},
   "outputs": [
    {
     "name": "stdout",
     "output_type": "stream",
     "text": [
      "sk_beta [[-0.00900548 -0.01064985  0.00553032]]\n",
      "sk_obj 0.6930070388754913\n"
     ]
    }
   ],
   "source": [
    "print('sk_beta', sk_beta)\n",
    "print('sk_obj', sk_obj)"
   ]
  },
  {
   "cell_type": "markdown",
   "id": "weird-times",
   "metadata": {},
   "source": [
    "The two methods produce very close outputs"
   ]
  },
  {
   "cell_type": "markdown",
   "id": "considerable-domestic",
   "metadata": {},
   "source": [
    "11. Run cross-validation on the training set of the smarket dataset using *scikit-learn* to find the opitmal value of $\\lambda$ (see `sklearn.linear_model.LogisticRegressionCV`). Again, note that the scikit-learn's penalty $C$ is not the same as our $\\lambda$. Find the value $\\lambda^*$ corresponding to the best choice $C^*$ obtained with this method. Run *graddescent* and *fastgradalgo* to optimize the objective with $\\lambda = \\lambda^*$. Plot the curve of the objective values $F(\\beta_t)$ for both algorithms versus the iteration counter $t$. Plot the misclassification error on the training set for both algorithms versus the iteration counter $t$. Plot the misclassification error on the test set for both algorithms versus the iteration counter $t$. What do you observe?"
   ]
  },
  {
   "cell_type": "code",
   "execution_count": 24,
   "id": "original-croatia",
   "metadata": {},
   "outputs": [
    {
     "name": "stdout",
     "output_type": "stream",
     "text": [
      "lamb_star:  0.0005\n"
     ]
    }
   ],
   "source": [
    "skC = LogisticRegressionCV().fit(Xs, y_train).C_[0]\n",
    "lamb_star = skC / (2*n*skC)\n",
    "print('lamb_star: ', lamb_star)"
   ]
  },
  {
   "cell_type": "code",
   "execution_count": 25,
   "id": "considerable-projection",
   "metadata": {},
   "outputs": [],
   "source": [
    "#fastgradalgo(beta_init, eta_init, decay_rate, prop_constant, target_accuracy, lamb)\n",
    "grad_b_star = graddescent(beta_init, eta_init, decay_rate, prop_constant, target_accuracy, lamb_star)\n",
    "grad_obj_star = [obj_function(Xs, y_train, b, lamb_star) for b in grad_b_star]\n",
    "\n",
    "fast_b_star = fastgradalgo(beta_init, eta_init, decay_rate, prop_constant, target_accuracy, lamb_star)\n",
    "fast_obj_star = [obj_function(Xs, y_train, b, lamb_star) for b in fast_b_star]"
   ]
  },
  {
   "cell_type": "code",
   "execution_count": 26,
   "id": "copyrighted-remark",
   "metadata": {},
   "outputs": [
    {
     "data": {
      "text/plain": [
       "<matplotlib.legend.Legend at 0x7f2f9317a3d0>"
      ]
     },
     "execution_count": 26,
     "metadata": {},
     "output_type": "execute_result"
    },
    {
     "data": {
      "image/png": "[encoded data removed]",
      "text/plain": [
       "<Figure size 432x288 with 1 Axes>"
      ]
     },
     "metadata": {
      "needs_background": "light"
     },
     "output_type": "display_data"
    }
   ],
   "source": [
    "fig = plt.figure()\n",
    "ax = fig.add_subplot()\n",
    "ax.plot(fast_obj_star, c = 'b', label = 'fast_obj_star')\n",
    "ax.plot(grad_obj_star, c = 'r', label = 'grad_obj_star')\n",
    "ax.set_title('Objective function value vs iteration counter')\n",
    "ax.set_xlabel('iterations')\n",
    "ax.set_ylabel('F(beta)')\n",
    "ax.legend()"
   ]
  },
  {
   "cell_type": "code",
   "execution_count": 27,
   "id": "available-shell",
   "metadata": {},
   "outputs": [
    {
     "name": "stdout",
     "output_type": "stream",
     "text": [
      "b_t:  [-0.04730722 -0.05349005  0.02612461]\n",
      "obj_t:  0.6924381432860797\n"
     ]
    }
   ],
   "source": [
    "b_star_t = fast_b_star[-1]\n",
    "obj_star_t = fast_obj_star[-1]\n",
    "\n",
    "print('b_t: ', b_star_t)\n",
    "print('obj_t: ', obj_star_t)"
   ]
  },
  {
   "cell_type": "code",
   "execution_count": 29,
   "id": "solid-content",
   "metadata": {},
   "outputs": [],
   "source": [
    "def get_y_pred(beta, X):\n",
    "    \n",
    "    \"\"\"\n",
    "    Return predicted y value given beta and X\n",
    "    \"\"\"\n",
    "    \n",
    "    pred = np.exp(np.dot(X, beta))/(1+np.exp(np.dot(X, beta)))\n",
    "    y_pred = [1 if y > 0.5 else -1 for y in list(pred)]\n",
    "    \n",
    "    return np.array(y_pred)\n",
    "\n",
    "def get_misclass(beta, X, y):\n",
    "    \n",
    "    \"\"\"\n",
    "    Return misclassification rate (1-correct) given true Y and predicted derived from beta and X\n",
    "    \"\"\"\n",
    "    y_pred = get_y_pred(beta, X)\n",
    "    \n",
    "    return 1 - np.mean(y == y_pred)"
   ]
  },
  {
   "cell_type": "code",
   "execution_count": 32,
   "id": "medical-giant",
   "metadata": {},
   "outputs": [],
   "source": [
    "misclass_grad = [get_misclass(b, Xs, y_train) for b in grad_b_star]\n",
    "misclass_fast = [get_misclass(b, Xs, y_train) for b in fast_b_star]"
   ]
  },
  {
   "cell_type": "code",
   "execution_count": 41,
   "id": "laden-steam",
   "metadata": {},
   "outputs": [
    {
     "data": {
      "text/plain": [
       "<matplotlib.legend.Legend at 0x7f2f92e6c150>"
      ]
     },
     "execution_count": 41,
     "metadata": {},
     "output_type": "execute_result"
    },
    {
     "data": {
      "image/png": "[encoded data removed]",
      "text/plain": [
       "<Figure size 432x288 with 1 Axes>"
      ]
     },
     "metadata": {
      "needs_background": "light"
     },
     "output_type": "display_data"
    }
   ],
   "source": [
    "fig = plt.figure()\n",
    "ax = fig.add_subplot()\n",
    "ax.plot(misclass_fast, c = 'b', label = 'misclass_fast')\n",
    "ax.plot(misclass_grad, c = 'r', label = 'misclass_grad')\n",
    "ax.set_title('Misclassification rate vs iteration counter')\n",
    "ax.set_xlabel('iteration')\n",
    "ax.set_ylabel('P of misclassification')\n",
    "ax.legend()"
   ]
  },
  {
   "cell_type": "code",
   "execution_count": 38,
   "id": "jewish-angle",
   "metadata": {},
   "outputs": [],
   "source": [
    "misclass_grad_test = [get_misclass(b, Xs_test, y_test) for b in grad_b_star]\n",
    "misclass_fast_test = [get_misclass(b, Xs_test, y_test) for b in fast_b_star]"
   ]
  },
  {
   "cell_type": "code",
   "execution_count": 40,
   "id": "imported-gilbert",
   "metadata": {},
   "outputs": [
    {
     "data": {
      "text/plain": [
       "<matplotlib.legend.Legend at 0x7f2f92f12650>"
      ]
     },
     "execution_count": 40,
     "metadata": {},
     "output_type": "execute_result"
    },
    {
     "data": {
      "image/png": "[encoded data removed]",
      "text/plain": [
       "<Figure size 432x288 with 1 Axes>"
      ]
     },
     "metadata": {
      "needs_background": "light"
     },
     "output_type": "display_data"
    }
   ],
   "source": [
    "fig = plt.figure()\n",
    "ax = fig.add_subplot()\n",
    "ax.plot(misclass_fast_test, c = 'b', label = 'misclass_fast')\n",
    "ax.plot(misclass_grad_test, c = 'r', label = 'misclass_grad')\n",
    "ax.set_title('Misclassification rate vs iteration counter')\n",
    "ax.set_xlabel('iteration')\n",
    "ax.set_ylabel('P of misclassification')\n",
    "ax.legend()"
   ]
  },
  {
   "cell_type": "markdown",
   "id": "impressive-clear",
   "metadata": {},
   "source": [
    "Both methods result in misclassification rate close to 0.5"
   ]
  }
 ],
 "metadata": {
  "kernelspec": {
   "display_name": "Python [conda env:DATA558] *",
   "language": "python",
   "name": "conda-env-DATA558-py"
  },
  "language_info": {
   "codemirror_mode": {
    "name": "ipython",
    "version": 3
   },
   "file_extension": ".py",
   "mimetype": "text/x-python",
   "name": "python",
   "nbconvert_exporter": "python",
   "pygments_lexer": "ipython3",
   "version": "3.7.10"
  }
 },
 "nbformat": 4,
 "nbformat_minor": 5
}
