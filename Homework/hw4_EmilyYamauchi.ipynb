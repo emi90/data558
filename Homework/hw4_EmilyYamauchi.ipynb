{
 "cells": [
  {
   "cell_type": "markdown",
   "id": "fifty-treasure",
   "metadata": {},
   "source": [
    "### DATA558 HW4\n",
    "Emily Yamauchi"
   ]
  },
  {
   "cell_type": "code",
   "execution_count": 1,
   "id": "rational-chest",
   "metadata": {},
   "outputs": [],
   "source": [
    "import numpy as np\n",
    "import pandas as pd\n",
    "import matplotlib.pyplot as plt\n",
    "from sklearn.linear_model import Lasso, LassoCV\n",
    "from sklearn.metrics import mean_squared_error"
   ]
  },
  {
   "cell_type": "markdown",
   "id": "checked-sustainability",
   "metadata": {},
   "source": [
    "Objective function:\n",
    "\n",
    "$$\n",
    "\\begin{align}\n",
    "F(\\beta)=\\frac{1}{2n}\\sum_{i=1}^n(y_i-x_i^\\top \\beta)^2 + \\lambda||\\beta||_1\n",
    "\\end{align}\n",
    "$$\n",
    "\n",
    "Find \n",
    "\n",
    "$$\n",
    " F(\\beta^*)=\\min_{\\beta \\in \\mathbb{R}^d}F(\\beta)\n",
    "$$"
   ]
  },
  {
   "cell_type": "markdown",
   "id": "ongoing-underwear",
   "metadata": {},
   "source": [
    "**Algorithm 1** Cooridinate Descent Algorithm, general form  \n",
    "**initialization** $\\beta=0$  \n",
    "**repeat** for $t=0,1,2,...$  \n",
    "- Pick a coordinate index $j$ in $\\{1,...d\\}$  \n",
    "- Find $\\beta_j^{new}$ by minimizing $F(\\beta)$ with respect to $\\beta_j$ only.  \n",
    "- Perform update $\\beta_j^{(t+1)}=\\beta_j^{new}$.\n",
    "- Perform update $\\beta_\\ell^{(t+1)}=\\beta_\\ell^{(t)}$ for all $\\ell\\neq j$.  \n",
    "\n",
    "**until** the stopping criterion is satisfied."
   ]
  },
  {
   "cell_type": "markdown",
   "id": "pursuant-tonight",
   "metadata": {},
   "source": [
    "1. Assume that $d=1$ and $n=1$. The sampe is then of size 1 and boils down to just $(x,y)$; the learning parameter $\\beta$ is then a scalar. The function $F$ writes simply as  \n",
    "$$\n",
    "\\begin{align}\n",
    "F(\\beta)&=\\frac{1}{2}(y-x\\beta)^2+\\lambda | \\beta |\n",
    "\\end{align}\n",
    "$$\n",
    "The solution to the minimization problem $\\min_\\beta F(\\beta)$ is given by soft thresholding:  \n",
    "\n",
    "$$\n",
    "\\beta = \\begin{cases} \\frac{xy-\\lambda}{x^2} & xy>\\lambda \\\\ 0 & |xy|\\leq \\lambda \\\\ \\frac{xy+\\lambda}{x^2} & xy<-\\lambda \\end{cases}\n",
    "$$\n",
    "\n",
    "Implement the function $F(\\beta)$ in the $n=1, d=1$ case. Implement a soft thresholding function that returns $\\beta$ given $x, y, \\lambda$. Plot $F(\\beta)$, setting $x=1, y=1, \\lambda=0.5$, and show visually that the minimum is obtained by your soft thresholding function."
   ]
  },
  {
   "cell_type": "code",
   "execution_count": 2,
   "id": "concrete-twist",
   "metadata": {},
   "outputs": [],
   "source": [
    "def soft_thresholding(x, y, lamb):\n",
    "    \"\"\"\n",
    "    Implement soft thresholding function that returns beta given x, y, and lambda\n",
    "    When n = 1, d = 1\n",
    "    \"\"\"\n",
    "    beta = 0\n",
    "    \n",
    "    if (x*y) > lamb:\n",
    "        beta = (x*y - lamb)/(x**2)\n",
    "    \n",
    "    if (x*y) < -lamb:\n",
    "        beta = (x*y + lamb)/(x**2)\n",
    "    \n",
    "    return beta"
   ]
  },
  {
   "cell_type": "code",
   "execution_count": 3,
   "id": "lucky-monthly",
   "metadata": {},
   "outputs": [
    {
     "data": {
      "text/plain": [
       "0.5"
      ]
     },
     "execution_count": 3,
     "metadata": {},
     "output_type": "execute_result"
    }
   ],
   "source": [
    "soft_thresholding(1, 1, 0.5)"
   ]
  },
  {
   "cell_type": "code",
   "execution_count": 4,
   "id": "suitable-andrews",
   "metadata": {},
   "outputs": [],
   "source": [
    "def obj_func_1(beta, x, y, lamb):\n",
    "    \"\"\"\n",
    "    Objective function when n = 1, d = 1\n",
    "    \"\"\"\n",
    "    \n",
    "    f1 = (y - x*beta)**2\n",
    "    f2 = lamb * np.abs(beta)\n",
    "    \n",
    "    return f1/2 + f2"
   ]
  },
  {
   "cell_type": "code",
   "execution_count": 5,
   "id": "accompanied-pierre",
   "metadata": {},
   "outputs": [
    {
     "data": {
      "text/plain": [
       "0.375"
      ]
     },
     "execution_count": 5,
     "metadata": {},
     "output_type": "execute_result"
    }
   ],
   "source": [
    "obj_func_1(0.5, 1, 1, 0.5)"
   ]
  },
  {
   "cell_type": "code",
   "execution_count": 6,
   "id": "governing-louisville",
   "metadata": {},
   "outputs": [],
   "source": [
    "x = 1\n",
    "y = 1\n",
    "lamb = 0.5\n",
    "\n",
    "obj_x = np.linspace(-2, 2, 100)\n",
    "obj_y = [obj_func_1(b, x, y, lamb) for b in obj_x]"
   ]
  },
  {
   "cell_type": "code",
   "execution_count": 7,
   "id": "documented-glasgow",
   "metadata": {},
   "outputs": [],
   "source": [
    "min_x = soft_thresholding(x, y, lamb)\n",
    "min_y = obj_func_1(min_x, x, y, lamb)"
   ]
  },
  {
   "cell_type": "code",
   "execution_count": 8,
   "id": "reflected-stage",
   "metadata": {},
   "outputs": [
    {
     "data": {
      "text/plain": [
       "Text(0.5, 0.375, 'min')"
      ]
     },
     "execution_count": 8,
     "metadata": {},
     "output_type": "execute_result"
    },
    {
     "data": {
      "image/png": "[encoded data removed]",
      "text/plain": [
       "<Figure size 432x288 with 1 Axes>"
      ]
     },
     "metadata": {
      "needs_background": "light"
     },
     "output_type": "display_data"
    }
   ],
   "source": [
    "fig, ax = plt.subplots()\n",
    "ax.plot(obj_x, obj_y)\n",
    "ax.annotate('min', xy = (min_x, min_y))"
   ]
  },
  {
   "cell_type": "markdown",
   "id": "collect-webmaster",
   "metadata": {},
   "source": [
    "2. Assume now that $d>1$ and $n>1$. The full minimization problem now writes as  \n",
    "$$\n",
    "\\begin{align}\n",
    "F(\\beta)&=\\frac{1}{2n}\\sum_{i=1}^n(y_i-x_i^\\top \\beta)^2+\\lambda || \\beta ||_1\n",
    "\\end{align}\n",
    "$$\n",
    "\n",
    "Write a function *computeobj* that computes and returns $F(\\beta)$ for any $\\beta$, given $X, y,$ and $\\lambda$. Plot this function by first generating some data, and then passing your implementation of *computeobj* as an argument to the plotting function provided."
   ]
  },
  {
   "cell_type": "code",
   "execution_count": 9,
   "id": "potential-screen",
   "metadata": {},
   "outputs": [],
   "source": [
    "np.random.seed(123)\n",
    "\n",
    "X = np.random.normal(size=(10,2))\n",
    "beta = np.array([2.0, -5.0])\n",
    "y = np.dot(X, beta) + np.random.normal(10)\n",
    "lam = 3.0"
   ]
  },
  {
   "cell_type": "code",
   "execution_count": 10,
   "id": "small-blank",
   "metadata": {},
   "outputs": [],
   "source": [
    "def plot_objective(X, y, computeobj, lambda_, min_beta=None, iterates=None):\n",
    "    nb = 100\n",
    "    brange = np.linspace(-10, 10, nb)\n",
    "    b1, b2 = np.meshgrid(brange, brange)\n",
    "    \n",
    "    z = np.array([computeobj(beta, X, y, lambda_) for beta in zip(b1.ravel(), b2.ravel())])\n",
    "    \n",
    "    levels = np.logspace(-5, 4 ,100)\n",
    "    \n",
    "    plt.figure(figsize=(6,6))\n",
    "    \n",
    "    plt.hlines(y=0, xmin=-10, xmax=10, color='k')\n",
    "    plt.vlines(x=0, ymin=-10, ymax=10, color='k')\n",
    "    \n",
    "    if min_beta is not None:\n",
    "        plt.scatter(min_beta[0], min_beta[1], marker='x', s=100, color='k')\n",
    "    \n",
    "    if iterates is not None:\n",
    "        #Arrows\n",
    "        for j in range(1, len(iterates)):\n",
    "            plt.annotate(\n",
    "            \"\",\n",
    "            xy=iterates[j],\n",
    "            xytext=iterates[j-1],\n",
    "            arrowprops={\"arrowstyle:\": \"->\", \"color\":color, \"lw\": 1},\n",
    "            va=\"center\",\n",
    "            ha=\"center\",\n",
    "        )\n",
    "    \n",
    "    plt.contour(brange, brange, z.reshape((nb, nb)), levels=levels)"
   ]
  },
  {
   "cell_type": "code",
   "execution_count": 11,
   "id": "cubic-firewall",
   "metadata": {},
   "outputs": [],
   "source": [
    "def computeobj(beta, X, y, lamb):\n",
    "    \"\"\"\n",
    "    Return the objective function where n>1 and d>1\n",
    "    \"\"\"\n",
    "    \n",
    "    n = len(X)\n",
    "    f1 = 1/(2*n)*sum((y-X.dot(beta))**2)\n",
    "    f2 = np.linalg.norm(beta) * lamb\n",
    "    \n",
    "    return f1 + f2"
   ]
  },
  {
   "cell_type": "code",
   "execution_count": 12,
   "id": "impressed-concentrate",
   "metadata": {},
   "outputs": [
    {
     "data": {
      "image/png": "[encoded data removed]",
      "text/plain": [
       "<Figure size 432x432 with 1 Axes>"
      ]
     },
     "metadata": {
      "needs_background": "light"
     },
     "output_type": "display_data"
    }
   ],
   "source": [
    "plot_objective(X, y, computeobj, lam)"
   ]
  },
  {
   "cell_type": "markdown",
   "id": "hundred-springer",
   "metadata": {},
   "source": [
    "3. Coordinate descent proceeds by sequential partial minimization with respect to each coordinate $\\beta_j$, that by solving partial minimization problems of form \n",
    "$$\n",
    "\\min_{\\beta_j}=\\frac{1}{2n}\\sum_{i=1}^n\\{y_i-(\\beta_ix_{i,1}+...+\\beta_ix_{i,j}+...+\\beta_ix_{i,d}\\}^2 \\\\\n",
    "+\\lambda\\{|\\beta_1|+...+|\\beta_j|+...+|\\beta_d|\\}\n",
    "$$\n",
    "\n",
    "Write a function *partial_min* that takes $X, y, \\beta, \\lambda$ and an index $j$, and returns the vector $\\tilde{\\beta}$ that results from minimizing $F(\\beta)$ along coordinate $j$, starting at the point $\\beta$. Using the same $X, y, \\lambda$ as above, evaluate this function from the starting point `beta_init` and on the coordinate $j=1$:  \n",
    "`beta_init = np.array([5.0, 5.0])  \n",
    "j = 1`  \n",
    "Generate the same contour plot as above, this time adding the initial point and the point that results from your partial minimization.  "
   ]
  },
  {
   "cell_type": "markdown",
   "id": "liable-spending",
   "metadata": {},
   "source": [
    "$$\n",
    "\\min_{\\beta_j}=\\underbrace{ \\frac{1}{2n}\\sum_{i=1}^n\\{y_i-(\\beta_ix_{i,1}+...+\\beta_ix_{i,j}+...+\\beta_ix_{i,d}\\}^2 }_1 \\\\\n",
    "+\\underbrace{ \\lambda\\{|\\beta_1|+...+|\\beta_j|+...+|\\beta_d|\\} }_2 \\\\\n",
    "$$\n",
    "Part 1 is minimized as \\\n",
    "$$\n",
    "\\begin{align}\n",
    "\\min_{\\text{Part1}}&=-\\frac{1}{n}X_j^\\top(y-X_{-j}\\beta_{-j}-X_j\\beta_j)\n",
    "\\end{align}\n",
    "$$\n",
    "Part 2 is minimized as\n",
    "$$\n",
    "\\min_\\text{Part2} = \\begin{cases} -\\lambda & \\beta < 0 \\\\ [-\\lambda, \\lambda] & \\beta = 0 \\\\ \\lambda & \\beta > 0 \\end{cases}\n",
    "$$\n",
    "\n",
    "Therefore, putting both together \n",
    "\n",
    "$$\n",
    "\\min_{\\beta_j} = \\begin{cases} \\frac{\\gamma_j - \\lambda}{\\eta_j} & \\gamma_j > \\lambda \\\\ 0 & -\\lambda \\leq \\gamma_j \\leq \\lambda \\\\ \\frac{\\gamma_j + \\lambda}{\\eta_j} & \\gamma_j < -\\lambda \\end{cases},\n",
    "$$\n",
    "\n",
    "and \n",
    "$$\n",
    "\\gamma_j = \\frac{1}{n} X_j^T(y-X_{-j}^T\\beta_{-j}) \\\\\n",
    "\\eta_j = \\frac{1}{n} X_j^TX_j.\n",
    "$$ "
   ]
  },
  {
   "cell_type": "code",
   "execution_count": 13,
   "id": "failing-prefix",
   "metadata": {},
   "outputs": [],
   "source": [
    "def partial_min(beta, X, y, lamb, j):\n",
    "    \"\"\"\n",
    "    Implements partial minimization to return vector beta' that results from minimizing F(Beta) along the j-coordinate\n",
    "    X: nxd\n",
    "    beta: 1xd\n",
    "    y: nx1\n",
    "    lamb: scalar\n",
    "    j: index\n",
    "    Returns: a number\n",
    "    \"\"\"\n",
    "    n = X.shape[0]\n",
    "    \n",
    "    X_j = X[:,j]\n",
    "    beta_j = beta[j]\n",
    "    \n",
    "    X_jMin = np.delete(X, j, axis = 1)\n",
    "    beta_jMin = np.delete(beta, j, axis = 0)\n",
    "    \n",
    "    gamma = (X_j.T.dot(y - X_jMin.dot(beta_jMin))) * (1/n)\n",
    "    eta = X_j.T.dot(X_j) * (1/n)\n",
    "    \n",
    "    min_b = 0\n",
    "    \n",
    "    if gamma > lamb:\n",
    "        \n",
    "        min_b = (gamma - lamb)/eta\n",
    "    \n",
    "    if gamma < -lamb:\n",
    "        \n",
    "        min_b = (gamma + lamb)/eta\n",
    "    \n",
    "    return min_b"
   ]
  },
  {
   "cell_type": "code",
   "execution_count": 14,
   "id": "abandoned-audio",
   "metadata": {},
   "outputs": [],
   "source": [
    "j = 1\n",
    "beta_init = np.array([5, 5])\n",
    "\n",
    "j_coord = partial_min(beta_init, X, y, lam, j)"
   ]
  },
  {
   "cell_type": "code",
   "execution_count": 15,
   "id": "italian-correspondence",
   "metadata": {},
   "outputs": [
    {
     "data": {
      "text/plain": [
       "array([ 5.        , -1.99460278])"
      ]
     },
     "execution_count": 15,
     "metadata": {},
     "output_type": "execute_result"
    }
   ],
   "source": [
    "np.array([5, j_coord])"
   ]
  },
  {
   "cell_type": "code",
   "execution_count": 16,
   "id": "touched-lithuania",
   "metadata": {},
   "outputs": [
    {
     "data": {
      "text/plain": [
       "<matplotlib.legend.Legend at 0x7f3c96c07710>"
      ]
     },
     "execution_count": 16,
     "metadata": {},
     "output_type": "execute_result"
    },
    {
     "data": {
      "image/png": "[encoded data removed]",
      "text/plain": [
       "<Figure size 432x432 with 1 Axes>"
      ]
     },
     "metadata": {
      "needs_background": "light"
     },
     "output_type": "display_data"
    }
   ],
   "source": [
    "plot_objective(X, y, computeobj, lam)\n",
    "plt.plot(beta_init[0], beta_init[1], 'x', label = 'beta_init')\n",
    "plt.plot(beta_init[0], j_coord, 'o', label = 'partial_min')\n",
    "plt.legend()"
   ]
  },
  {
   "cell_type": "markdown",
   "id": "suited-stanford",
   "metadata": {},
   "source": [
    "4. Download the file `HW4_data.csv` from the course website. The data is a subset of the `superconductivity` dataset from the UCI Machine Learning Repository. It consists of $n=100$ observations of $d=20$ features and one response. The goal is to predict the response, `critical_temp` from the features. Load the datas as a Pandas data frame, seperating it into features $X$ and response $y$. Standardize $X$ and $y$."
   ]
  },
  {
   "cell_type": "code",
   "execution_count": 17,
   "id": "wound-objective",
   "metadata": {},
   "outputs": [],
   "source": [
    "sc_df = pd.read_csv('data/HW4_data.csv')"
   ]
  },
  {
   "cell_type": "code",
   "execution_count": 18,
   "id": "tired-hawaii",
   "metadata": {},
   "outputs": [
    {
     "data": {
      "text/html": [
       "<div>\n",
       "<style scoped>\n",
       "    .dataframe tbody tr th:only-of-type {\n",
       "        vertical-align: middle;\n",
       "    }\n",
       "\n",
       "    .dataframe tbody tr th {\n",
       "        vertical-align: top;\n",
       "    }\n",
       "\n",
       "    .dataframe thead th {\n",
       "        text-align: right;\n",
       "    }\n",
       "</style>\n",
       "<table border=\"1\" class=\"dataframe\">\n",
       "  <thead>\n",
       "    <tr style=\"text-align: right;\">\n",
       "      <th></th>\n",
       "      <th>mean_atomic_mass</th>\n",
       "      <th>wtd_mean_atomic_mass</th>\n",
       "      <th>gmean_atomic_mass</th>\n",
       "      <th>wtd_gmean_atomic_mass</th>\n",
       "      <th>entropy_atomic_mass</th>\n",
       "      <th>wtd_entropy_atomic_mass</th>\n",
       "      <th>range_atomic_mass</th>\n",
       "      <th>wtd_range_atomic_mass</th>\n",
       "      <th>std_atomic_mass</th>\n",
       "      <th>wtd_std_atomic_mass</th>\n",
       "      <th>...</th>\n",
       "      <th>wtd_mean_fie</th>\n",
       "      <th>gmean_fie</th>\n",
       "      <th>wtd_gmean_fie</th>\n",
       "      <th>entropy_fie</th>\n",
       "      <th>wtd_entropy_fie</th>\n",
       "      <th>range_fie</th>\n",
       "      <th>wtd_range_fie</th>\n",
       "      <th>std_fie</th>\n",
       "      <th>wtd_std_fie</th>\n",
       "      <th>critical_temp</th>\n",
       "    </tr>\n",
       "  </thead>\n",
       "  <tbody>\n",
       "    <tr>\n",
       "      <th>0</th>\n",
       "      <td>84.231574</td>\n",
       "      <td>57.842763</td>\n",
       "      <td>66.164102</td>\n",
       "      <td>36.112184</td>\n",
       "      <td>1.430024</td>\n",
       "      <td>1.138253</td>\n",
       "      <td>122.90607</td>\n",
       "      <td>33.640786</td>\n",
       "      <td>47.428396</td>\n",
       "      <td>53.589094</td>\n",
       "      <td>...</td>\n",
       "      <td>1009.946857</td>\n",
       "      <td>752.280835</td>\n",
       "      <td>937.287219</td>\n",
       "      <td>1.545214</td>\n",
       "      <td>0.812484</td>\n",
       "      <td>810.6</td>\n",
       "      <td>749.048857</td>\n",
       "      <td>294.283693</td>\n",
       "      <td>356.200361</td>\n",
       "      <td>5.0</td>\n",
       "    </tr>\n",
       "    <tr>\n",
       "      <th>1</th>\n",
       "      <td>88.944468</td>\n",
       "      <td>57.894262</td>\n",
       "      <td>66.361592</td>\n",
       "      <td>36.124868</td>\n",
       "      <td>1.181795</td>\n",
       "      <td>0.932518</td>\n",
       "      <td>122.90607</td>\n",
       "      <td>37.319570</td>\n",
       "      <td>51.968828</td>\n",
       "      <td>53.669752</td>\n",
       "      <td>...</td>\n",
       "      <td>1011.040571</td>\n",
       "      <td>718.152900</td>\n",
       "      <td>939.406232</td>\n",
       "      <td>1.305967</td>\n",
       "      <td>0.764604</td>\n",
       "      <td>810.6</td>\n",
       "      <td>746.035714</td>\n",
       "      <td>323.811808</td>\n",
       "      <td>354.499974</td>\n",
       "      <td>10.2</td>\n",
       "    </tr>\n",
       "    <tr>\n",
       "      <th>2</th>\n",
       "      <td>75.100250</td>\n",
       "      <td>51.579798</td>\n",
       "      <td>61.298642</td>\n",
       "      <td>35.158873</td>\n",
       "      <td>1.456708</td>\n",
       "      <td>1.390133</td>\n",
       "      <td>121.32760</td>\n",
       "      <td>19.623906</td>\n",
       "      <td>39.288902</td>\n",
       "      <td>44.284202</td>\n",
       "      <td>...</td>\n",
       "      <td>998.089172</td>\n",
       "      <td>705.732671</td>\n",
       "      <td>930.382127</td>\n",
       "      <td>1.542128</td>\n",
       "      <td>0.937941</td>\n",
       "      <td>810.6</td>\n",
       "      <td>690.345940</td>\n",
       "      <td>291.828474</td>\n",
       "      <td>346.349554</td>\n",
       "      <td>75.0</td>\n",
       "    </tr>\n",
       "    <tr>\n",
       "      <th>3</th>\n",
       "      <td>74.231650</td>\n",
       "      <td>51.480943</td>\n",
       "      <td>60.515221</td>\n",
       "      <td>35.113886</td>\n",
       "      <td>1.453747</td>\n",
       "      <td>1.340115</td>\n",
       "      <td>121.32760</td>\n",
       "      <td>20.650805</td>\n",
       "      <td>39.445875</td>\n",
       "      <td>44.246346</td>\n",
       "      <td>...</td>\n",
       "      <td>1003.200310</td>\n",
       "      <td>771.891022</td>\n",
       "      <td>937.305449</td>\n",
       "      <td>1.552506</td>\n",
       "      <td>0.929772</td>\n",
       "      <td>810.6</td>\n",
       "      <td>694.888235</td>\n",
       "      <td>282.395259</td>\n",
       "      <td>341.811885</td>\n",
       "      <td>53.0</td>\n",
       "    </tr>\n",
       "    <tr>\n",
       "      <th>4</th>\n",
       "      <td>119.942725</td>\n",
       "      <td>91.077409</td>\n",
       "      <td>90.003794</td>\n",
       "      <td>73.231604</td>\n",
       "      <td>1.590565</td>\n",
       "      <td>1.551095</td>\n",
       "      <td>191.20060</td>\n",
       "      <td>29.007229</td>\n",
       "      <td>70.961415</td>\n",
       "      <td>55.280514</td>\n",
       "      <td>...</td>\n",
       "      <td>721.865714</td>\n",
       "      <td>701.448928</td>\n",
       "      <td>687.113728</td>\n",
       "      <td>1.733547</td>\n",
       "      <td>1.540374</td>\n",
       "      <td>786.5</td>\n",
       "      <td>192.422857</td>\n",
       "      <td>268.928309</td>\n",
       "      <td>255.944162</td>\n",
       "      <td>90.0</td>\n",
       "    </tr>\n",
       "  </tbody>\n",
       "</table>\n",
       "<p>5 rows × 21 columns</p>\n",
       "</div>"
      ],
      "text/plain": [
       "   mean_atomic_mass  wtd_mean_atomic_mass  gmean_atomic_mass  \\\n",
       "0         84.231574             57.842763          66.164102   \n",
       "1         88.944468             57.894262          66.361592   \n",
       "2         75.100250             51.579798          61.298642   \n",
       "3         74.231650             51.480943          60.515221   \n",
       "4        119.942725             91.077409          90.003794   \n",
       "\n",
       "   wtd_gmean_atomic_mass  entropy_atomic_mass  wtd_entropy_atomic_mass  \\\n",
       "0              36.112184             1.430024                 1.138253   \n",
       "1              36.124868             1.181795                 0.932518   \n",
       "2              35.158873             1.456708                 1.390133   \n",
       "3              35.113886             1.453747                 1.340115   \n",
       "4              73.231604             1.590565                 1.551095   \n",
       "\n",
       "   range_atomic_mass  wtd_range_atomic_mass  std_atomic_mass  \\\n",
       "0          122.90607              33.640786        47.428396   \n",
       "1          122.90607              37.319570        51.968828   \n",
       "2          121.32760              19.623906        39.288902   \n",
       "3          121.32760              20.650805        39.445875   \n",
       "4          191.20060              29.007229        70.961415   \n",
       "\n",
       "   wtd_std_atomic_mass  ...  wtd_mean_fie   gmean_fie  wtd_gmean_fie  \\\n",
       "0            53.589094  ...   1009.946857  752.280835     937.287219   \n",
       "1            53.669752  ...   1011.040571  718.152900     939.406232   \n",
       "2            44.284202  ...    998.089172  705.732671     930.382127   \n",
       "3            44.246346  ...   1003.200310  771.891022     937.305449   \n",
       "4            55.280514  ...    721.865714  701.448928     687.113728   \n",
       "\n",
       "   entropy_fie  wtd_entropy_fie  range_fie  wtd_range_fie     std_fie  \\\n",
       "0     1.545214         0.812484      810.6     749.048857  294.283693   \n",
       "1     1.305967         0.764604      810.6     746.035714  323.811808   \n",
       "2     1.542128         0.937941      810.6     690.345940  291.828474   \n",
       "3     1.552506         0.929772      810.6     694.888235  282.395259   \n",
       "4     1.733547         1.540374      786.5     192.422857  268.928309   \n",
       "\n",
       "   wtd_std_fie  critical_temp  \n",
       "0   356.200361            5.0  \n",
       "1   354.499974           10.2  \n",
       "2   346.349554           75.0  \n",
       "3   341.811885           53.0  \n",
       "4   255.944162           90.0  \n",
       "\n",
       "[5 rows x 21 columns]"
      ]
     },
     "execution_count": 18,
     "metadata": {},
     "output_type": "execute_result"
    }
   ],
   "source": [
    "sc_df.head()"
   ]
  },
  {
   "cell_type": "code",
   "execution_count": 19,
   "id": "nearby-nature",
   "metadata": {},
   "outputs": [
    {
     "data": {
      "text/html": [
       "<div>\n",
       "<style scoped>\n",
       "    .dataframe tbody tr th:only-of-type {\n",
       "        vertical-align: middle;\n",
       "    }\n",
       "\n",
       "    .dataframe tbody tr th {\n",
       "        vertical-align: top;\n",
       "    }\n",
       "\n",
       "    .dataframe thead th {\n",
       "        text-align: right;\n",
       "    }\n",
       "</style>\n",
       "<table border=\"1\" class=\"dataframe\">\n",
       "  <thead>\n",
       "    <tr style=\"text-align: right;\">\n",
       "      <th></th>\n",
       "      <th>mean_atomic_mass</th>\n",
       "      <th>wtd_mean_atomic_mass</th>\n",
       "      <th>gmean_atomic_mass</th>\n",
       "      <th>wtd_gmean_atomic_mass</th>\n",
       "      <th>entropy_atomic_mass</th>\n",
       "      <th>wtd_entropy_atomic_mass</th>\n",
       "      <th>range_atomic_mass</th>\n",
       "      <th>wtd_range_atomic_mass</th>\n",
       "      <th>std_atomic_mass</th>\n",
       "      <th>wtd_std_atomic_mass</th>\n",
       "      <th>...</th>\n",
       "      <th>wtd_mean_fie</th>\n",
       "      <th>gmean_fie</th>\n",
       "      <th>wtd_gmean_fie</th>\n",
       "      <th>entropy_fie</th>\n",
       "      <th>wtd_entropy_fie</th>\n",
       "      <th>range_fie</th>\n",
       "      <th>wtd_range_fie</th>\n",
       "      <th>std_fie</th>\n",
       "      <th>wtd_std_fie</th>\n",
       "      <th>critical_temp</th>\n",
       "    </tr>\n",
       "  </thead>\n",
       "  <tbody>\n",
       "    <tr>\n",
       "      <th>count</th>\n",
       "      <td>100.000000</td>\n",
       "      <td>100.000000</td>\n",
       "      <td>100.000000</td>\n",
       "      <td>100.000000</td>\n",
       "      <td>100.000000</td>\n",
       "      <td>100.000000</td>\n",
       "      <td>100.000000</td>\n",
       "      <td>100.000000</td>\n",
       "      <td>100.000000</td>\n",
       "      <td>100.000000</td>\n",
       "      <td>...</td>\n",
       "      <td>100.000000</td>\n",
       "      <td>100.000000</td>\n",
       "      <td>100.000000</td>\n",
       "      <td>100.000000</td>\n",
       "      <td>100.000000</td>\n",
       "      <td>100.000000</td>\n",
       "      <td>100.000000</td>\n",
       "      <td>100.000000</td>\n",
       "      <td>100.000000</td>\n",
       "      <td>100.000000</td>\n",
       "    </tr>\n",
       "    <tr>\n",
       "      <th>mean</th>\n",
       "      <td>91.267645</td>\n",
       "      <td>62.470845</td>\n",
       "      <td>67.279305</td>\n",
       "      <td>41.675547</td>\n",
       "      <td>1.395333</td>\n",
       "      <td>1.334107</td>\n",
       "      <td>152.256706</td>\n",
       "      <td>25.776280</td>\n",
       "      <td>58.278272</td>\n",
       "      <td>55.536758</td>\n",
       "      <td>...</td>\n",
       "      <td>956.027671</td>\n",
       "      <td>723.822880</td>\n",
       "      <td>894.398244</td>\n",
       "      <td>1.557373</td>\n",
       "      <td>1.037880</td>\n",
       "      <td>795.254000</td>\n",
       "      <td>614.867748</td>\n",
       "      <td>290.555839</td>\n",
       "      <td>327.890152</td>\n",
       "      <td>46.928450</td>\n",
       "    </tr>\n",
       "    <tr>\n",
       "      <th>std</th>\n",
       "      <td>13.178910</td>\n",
       "      <td>13.281850</td>\n",
       "      <td>11.217558</td>\n",
       "      <td>13.215335</td>\n",
       "      <td>0.198448</td>\n",
       "      <td>0.264124</td>\n",
       "      <td>33.090412</td>\n",
       "      <td>8.612678</td>\n",
       "      <td>11.402871</td>\n",
       "      <td>7.958495</td>\n",
       "      <td>...</td>\n",
       "      <td>104.030450</td>\n",
       "      <td>30.938495</td>\n",
       "      <td>88.685229</td>\n",
       "      <td>0.212991</td>\n",
       "      <td>0.312775</td>\n",
       "      <td>21.098118</td>\n",
       "      <td>193.434543</td>\n",
       "      <td>31.212202</td>\n",
       "      <td>47.947602</td>\n",
       "      <td>36.916864</td>\n",
       "    </tr>\n",
       "    <tr>\n",
       "      <th>min</th>\n",
       "      <td>61.357238</td>\n",
       "      <td>47.618152</td>\n",
       "      <td>26.270151</td>\n",
       "      <td>30.713727</td>\n",
       "      <td>0.841338</td>\n",
       "      <td>0.932518</td>\n",
       "      <td>121.327600</td>\n",
       "      <td>11.027092</td>\n",
       "      <td>39.288902</td>\n",
       "      <td>43.145819</td>\n",
       "      <td>...</td>\n",
       "      <td>672.349583</td>\n",
       "      <td>638.226141</td>\n",
       "      <td>650.065839</td>\n",
       "      <td>1.021250</td>\n",
       "      <td>0.735100</td>\n",
       "      <td>723.700000</td>\n",
       "      <td>112.575000</td>\n",
       "      <td>234.380907</td>\n",
       "      <td>198.201132</td>\n",
       "      <td>4.000000</td>\n",
       "    </tr>\n",
       "    <tr>\n",
       "      <th>25%</th>\n",
       "      <td>83.729846</td>\n",
       "      <td>55.882976</td>\n",
       "      <td>64.751718</td>\n",
       "      <td>35.386005</td>\n",
       "      <td>1.181795</td>\n",
       "      <td>1.042813</td>\n",
       "      <td>122.906070</td>\n",
       "      <td>17.586018</td>\n",
       "      <td>48.238804</td>\n",
       "      <td>52.815410</td>\n",
       "      <td>...</td>\n",
       "      <td>955.593125</td>\n",
       "      <td>711.262897</td>\n",
       "      <td>886.470287</td>\n",
       "      <td>1.310185</td>\n",
       "      <td>0.787670</td>\n",
       "      <td>779.450000</td>\n",
       "      <td>607.678594</td>\n",
       "      <td>272.228524</td>\n",
       "      <td>330.875111</td>\n",
       "      <td>16.875000</td>\n",
       "    </tr>\n",
       "    <tr>\n",
       "      <th>50%</th>\n",
       "      <td>89.170086</td>\n",
       "      <td>57.878393</td>\n",
       "      <td>66.361592</td>\n",
       "      <td>36.120091</td>\n",
       "      <td>1.410948</td>\n",
       "      <td>1.358984</td>\n",
       "      <td>128.242600</td>\n",
       "      <td>25.567512</td>\n",
       "      <td>51.968828</td>\n",
       "      <td>53.651884</td>\n",
       "      <td>...</td>\n",
       "      <td>1007.517857</td>\n",
       "      <td>718.152900</td>\n",
       "      <td>937.348037</td>\n",
       "      <td>1.542583</td>\n",
       "      <td>0.939611</td>\n",
       "      <td>810.600000</td>\n",
       "      <td>694.877527</td>\n",
       "      <td>292.557305</td>\n",
       "      <td>345.385521</td>\n",
       "      <td>29.450000</td>\n",
       "    </tr>\n",
       "    <tr>\n",
       "      <th>75%</th>\n",
       "      <td>99.020971</td>\n",
       "      <td>62.507538</td>\n",
       "      <td>72.743816</td>\n",
       "      <td>39.962886</td>\n",
       "      <td>1.565293</td>\n",
       "      <td>1.546790</td>\n",
       "      <td>192.981000</td>\n",
       "      <td>34.255312</td>\n",
       "      <td>71.240702</td>\n",
       "      <td>61.258296</td>\n",
       "      <td>...</td>\n",
       "      <td>1010.661464</td>\n",
       "      <td>734.596714</td>\n",
       "      <td>939.100102</td>\n",
       "      <td>1.731008</td>\n",
       "      <td>1.091495</td>\n",
       "      <td>810.600000</td>\n",
       "      <td>738.769286</td>\n",
       "      <td>323.811808</td>\n",
       "      <td>355.241277</td>\n",
       "      <td>75.875000</td>\n",
       "    </tr>\n",
       "    <tr>\n",
       "      <th>max</th>\n",
       "      <td>142.376700</td>\n",
       "      <td>98.641607</td>\n",
       "      <td>98.761740</td>\n",
       "      <td>85.768282</td>\n",
       "      <td>1.818121</td>\n",
       "      <td>1.796118</td>\n",
       "      <td>192.981000</td>\n",
       "      <td>37.619066</td>\n",
       "      <td>78.477440</td>\n",
       "      <td>79.823052</td>\n",
       "      <td>...</td>\n",
       "      <td>1035.975000</td>\n",
       "      <td>831.170151</td>\n",
       "      <td>971.036295</td>\n",
       "      <td>1.904838</td>\n",
       "      <td>1.748310</td>\n",
       "      <td>810.600000</td>\n",
       "      <td>752.715000</td>\n",
       "      <td>347.221961</td>\n",
       "      <td>367.904468</td>\n",
       "      <td>121.000000</td>\n",
       "    </tr>\n",
       "  </tbody>\n",
       "</table>\n",
       "<p>8 rows × 21 columns</p>\n",
       "</div>"
      ],
      "text/plain": [
       "       mean_atomic_mass  wtd_mean_atomic_mass  gmean_atomic_mass  \\\n",
       "count        100.000000            100.000000         100.000000   \n",
       "mean          91.267645             62.470845          67.279305   \n",
       "std           13.178910             13.281850          11.217558   \n",
       "min           61.357238             47.618152          26.270151   \n",
       "25%           83.729846             55.882976          64.751718   \n",
       "50%           89.170086             57.878393          66.361592   \n",
       "75%           99.020971             62.507538          72.743816   \n",
       "max          142.376700             98.641607          98.761740   \n",
       "\n",
       "       wtd_gmean_atomic_mass  entropy_atomic_mass  wtd_entropy_atomic_mass  \\\n",
       "count             100.000000           100.000000               100.000000   \n",
       "mean               41.675547             1.395333                 1.334107   \n",
       "std                13.215335             0.198448                 0.264124   \n",
       "min                30.713727             0.841338                 0.932518   \n",
       "25%                35.386005             1.181795                 1.042813   \n",
       "50%                36.120091             1.410948                 1.358984   \n",
       "75%                39.962886             1.565293                 1.546790   \n",
       "max                85.768282             1.818121                 1.796118   \n",
       "\n",
       "       range_atomic_mass  wtd_range_atomic_mass  std_atomic_mass  \\\n",
       "count         100.000000             100.000000       100.000000   \n",
       "mean          152.256706              25.776280        58.278272   \n",
       "std            33.090412               8.612678        11.402871   \n",
       "min           121.327600              11.027092        39.288902   \n",
       "25%           122.906070              17.586018        48.238804   \n",
       "50%           128.242600              25.567512        51.968828   \n",
       "75%           192.981000              34.255312        71.240702   \n",
       "max           192.981000              37.619066        78.477440   \n",
       "\n",
       "       wtd_std_atomic_mass  ...  wtd_mean_fie   gmean_fie  wtd_gmean_fie  \\\n",
       "count           100.000000  ...    100.000000  100.000000     100.000000   \n",
       "mean             55.536758  ...    956.027671  723.822880     894.398244   \n",
       "std               7.958495  ...    104.030450   30.938495      88.685229   \n",
       "min              43.145819  ...    672.349583  638.226141     650.065839   \n",
       "25%              52.815410  ...    955.593125  711.262897     886.470287   \n",
       "50%              53.651884  ...   1007.517857  718.152900     937.348037   \n",
       "75%              61.258296  ...   1010.661464  734.596714     939.100102   \n",
       "max              79.823052  ...   1035.975000  831.170151     971.036295   \n",
       "\n",
       "       entropy_fie  wtd_entropy_fie   range_fie  wtd_range_fie     std_fie  \\\n",
       "count   100.000000       100.000000  100.000000     100.000000  100.000000   \n",
       "mean      1.557373         1.037880  795.254000     614.867748  290.555839   \n",
       "std       0.212991         0.312775   21.098118     193.434543   31.212202   \n",
       "min       1.021250         0.735100  723.700000     112.575000  234.380907   \n",
       "25%       1.310185         0.787670  779.450000     607.678594  272.228524   \n",
       "50%       1.542583         0.939611  810.600000     694.877527  292.557305   \n",
       "75%       1.731008         1.091495  810.600000     738.769286  323.811808   \n",
       "max       1.904838         1.748310  810.600000     752.715000  347.221961   \n",
       "\n",
       "       wtd_std_fie  critical_temp  \n",
       "count   100.000000     100.000000  \n",
       "mean    327.890152      46.928450  \n",
       "std      47.947602      36.916864  \n",
       "min     198.201132       4.000000  \n",
       "25%     330.875111      16.875000  \n",
       "50%     345.385521      29.450000  \n",
       "75%     355.241277      75.875000  \n",
       "max     367.904468     121.000000  \n",
       "\n",
       "[8 rows x 21 columns]"
      ]
     },
     "execution_count": 19,
     "metadata": {},
     "output_type": "execute_result"
    }
   ],
   "source": [
    "sc_df.describe()"
   ]
  },
  {
   "cell_type": "code",
   "execution_count": 20,
   "id": "dependent-dinner",
   "metadata": {},
   "outputs": [],
   "source": [
    "scX = sc_df.drop(columns = 'critical_temp', axis = 1)\n",
    "scy = sc_df['critical_temp']"
   ]
  },
  {
   "cell_type": "code",
   "execution_count": 21,
   "id": "tired-organic",
   "metadata": {},
   "outputs": [],
   "source": [
    "scXs = np.array((scX - scX.mean())/scX.std())\n",
    "scys = np.array((scy - scy.mean())/scy.std())"
   ]
  },
  {
   "cell_type": "code",
   "execution_count": 22,
   "id": "missing-constitutional",
   "metadata": {},
   "outputs": [
    {
     "name": "stdout",
     "output_type": "stream",
     "text": [
      "scXs.shape:  (100, 20)\n",
      "scys.shape:  (100,)\n"
     ]
    }
   ],
   "source": [
    "print('scXs.shape: ', scXs.shape)\n",
    "print('scys.shape: ', scys.shape)"
   ]
  },
  {
   "cell_type": "markdown",
   "id": "democratic-introduction",
   "metadata": {},
   "source": [
    "5. Use the sklearn function `LassoCV` to find a suitable choice for the regularization parameter $\\lambda$, with  \n",
    "`alphas = np.logspace(-2, 2, 31)`  \n",
    "and using the keyword parameter `cv=5` to specify 5-fold cross-validation. Report the best-performing choice of $\\lambda$. Repeat the question for $n-$fold cross-validation that is *leave-one-out* cross validation. "
   ]
  },
  {
   "cell_type": "code",
   "execution_count": 23,
   "id": "light-register",
   "metadata": {},
   "outputs": [],
   "source": [
    "alphas = np.logspace(-2, 2, 31)"
   ]
  },
  {
   "cell_type": "code",
   "execution_count": 24,
   "id": "rental-marble",
   "metadata": {},
   "outputs": [
    {
     "name": "stdout",
     "output_type": "stream",
     "text": [
      "best_lamb:  0.025118864315095794\n"
     ]
    }
   ],
   "source": [
    "best_lamb = LassoCV(alphas=alphas, cv = 5).fit(scXs, scys).alpha_\n",
    "print('best_lamb: ', best_lamb )"
   ]
  },
  {
   "cell_type": "code",
   "execution_count": 25,
   "id": "macro-omega",
   "metadata": {},
   "outputs": [],
   "source": [
    "def get_fold_indices(n, K, j):\n",
    "    \"\"\"\n",
    "    Helper function: return the indices for train and validation sets based on the K fold\n",
    "    j-th fold where j in [1,K] is validation, while rest is training \n",
    "    \"\"\"\n",
    "    \n",
    "    val_idx = np.arange(int(n/K * (j-1)), int(n/K * j))\n",
    "    train_idx = np.array([x for x in list(np.arange(0,n-1)) if x not in list(val_idx)])\n",
    "    \n",
    "    return train_idx, val_idx"
   ]
  },
  {
   "cell_type": "code",
   "execution_count": 26,
   "id": "enhanced-spouse",
   "metadata": {},
   "outputs": [],
   "source": [
    "def leave_one_out_cv(lambs, X, y, K):\n",
    "    \"\"\"\n",
    "    N-fold cross validation using leave-one-out method\n",
    "    \"\"\"\n",
    "    n = X.shape[0]\n",
    "    best_perf = np.inf\n",
    "\n",
    "    for i in range(len(lambs)):\n",
    "        \n",
    "        alpha = lambs[i]\n",
    "        mses = np.zeros(K)\n",
    "        \n",
    "        for j in range(K):\n",
    "\n",
    "            train_idx, val_idx = get_fold_indices(n, K, j)\n",
    "            X_train, y_train = X[train_idx], y[train_idx]\n",
    "            X_val, y_val = X[val_idx], y[val_idx]\n",
    "            m = Lasso(alpha=alpha).fit(X_train, y_train)\n",
    "            mses[j] = mean_squared_error(m.predict(X_val), y_val)\n",
    "            \n",
    "        performance = mses.mean()\n",
    "        if performance < best_perf:\n",
    "            best_perf = performance\n",
    "            best_lamb = alpha\n",
    "    \n",
    "    return best_lamb"
   ]
  },
  {
   "cell_type": "code",
   "execution_count": 27,
   "id": "chicken-monthly",
   "metadata": {},
   "outputs": [
    {
     "name": "stdout",
     "output_type": "stream",
     "text": [
      "best_lamb leave one out:  0.025118864315095794\n"
     ]
    }
   ],
   "source": [
    "best_lamb_lvo = leave_one_out_cv(alphas, scXs, scys, 5)\n",
    "print('best_lamb leave one out: ', best_lamb_lvo)"
   ]
  },
  {
   "cell_type": "markdown",
   "id": "million-exploration",
   "metadata": {},
   "source": [
    "6. We will implement two versions of coordinate descent, corresponding to two methods for selecting the index $j$. First, write a function *cyclicoorddescent* that implements the *cyclic coordinate descent* algorithm. The cyclic version of this algorithm selects $j$ by starting at $j=0$ and incrementing it sequentially (modulo $d$) in each iteration. Thus we first minimize with respect to the coordinate $\\beta_0$, then $\\beta_1$, and so on. Set a maximum iteration number as the stopping criterion. "
   ]
  },
  {
   "cell_type": "code",
   "execution_count": 334,
   "id": "amber-microwave",
   "metadata": {},
   "outputs": [],
   "source": [
    "def coorddescent(beta, X, y, lamb, j):\n",
    "    \n",
    "    min_j = partial_min(beta, X, y, lamb, j)\n",
    "    new_beta = beta.copy()\n",
    "    new_beta[j] = min_j\n",
    "    \n",
    "    return new_beta"
   ]
  },
  {
   "cell_type": "code",
   "execution_count": 364,
   "id": "discrete-manner",
   "metadata": {},
   "outputs": [],
   "source": [
    "def cyclicoorddescent(beta_init, X, y, lamb, max_iter=20):\n",
    "    \n",
    "    d = X.shape[1] #nxd matrix, find for each feature of X\n",
    "    t = 0\n",
    "    beta = beta_init.copy()\n",
    "    betas = [beta]\n",
    "\n",
    "    while t < max_iter:\n",
    "        \n",
    "        j = t % d\n",
    "        new_beta = coorddescent(beta, X, y, lamb, j)\n",
    "        betas.append(new_beta)\n",
    "        beta = new_beta\n",
    "        t += 1\n",
    "\n",
    "    return betas"
   ]
  },
  {
   "cell_type": "code",
   "execution_count": 360,
   "id": "configured-maximum",
   "metadata": {},
   "outputs": [
    {
     "data": {
      "text/plain": [
       "[array([0., 0., 0., 0., 0., 0., 0., 0., 0., 0., 0., 0., 0., 0., 0., 0., 0.,\n",
       "        0., 0., 0.]),\n",
       " array([0.10129, 0.     , 0.     , 0.     , 0.     , 0.     , 0.     ,\n",
       "        0.     , 0.     , 0.     , 0.     , 0.     , 0.     , 0.     ,\n",
       "        0.     , 0.     , 0.     , 0.     , 0.     , 0.     ]),\n",
       " array([0.10129   , 0.29105954, 0.        , 0.        , 0.        ,\n",
       "        0.        , 0.        , 0.        , 0.        , 0.        ,\n",
       "        0.        , 0.        , 0.        , 0.        , 0.        ,\n",
       "        0.        , 0.        , 0.        , 0.        , 0.        ])]"
      ]
     },
     "execution_count": 360,
     "metadata": {},
     "output_type": "execute_result"
    }
   ],
   "source": [
    "cyclicoorddescent(beta_sc, scXs, scys, best_lamb, 2)"
   ]
  },
  {
   "cell_type": "markdown",
   "id": "subject-october",
   "metadata": {},
   "source": [
    "7. Next write a function (or modify the previous function such that it can perform either selection method) such that the index $j$ is chosen uniformly at random. You may wish to use your solution to part (c)."
   ]
  },
  {
   "cell_type": "code",
   "execution_count": 365,
   "id": "found-davis",
   "metadata": {},
   "outputs": [],
   "source": [
    "def randcoorddescent(beta_init, X, y, lamb, max_iter=20):\n",
    "    \n",
    "    d = X.shape[1]\n",
    "    t = 0\n",
    "    beta = beta_init.copy()\n",
    "    betas = [beta]\n",
    "    \n",
    "    while t < max_iter:\n",
    "        \n",
    "        j = np.random.choice(d)\n",
    "        new_beta = coorddescent(beta, X, y, lamb, j)\n",
    "        betas.append(new_beta)\n",
    "        beta = new_beta\n",
    "        t += 1\n",
    "    \n",
    "    return betas"
   ]
  },
  {
   "cell_type": "code",
   "execution_count": 363,
   "id": "incoming-efficiency",
   "metadata": {},
   "outputs": [],
   "source": [
    "#randcoorddescent(beta_sc, scXs, scys, best_lamb)"
   ]
  },
  {
   "cell_type": "markdown",
   "id": "innovative-james",
   "metadata": {},
   "source": [
    "8. Run both implementations, *cyclicoorddescent* and *randcoorddescent*, on data $X, y$ using the value of $\\lambda$ selected previously (either by 5-fold or leave-one-out cross validation). Set the maximum number of iterations to 20000. For both variants, cyclic and randomized, of coordinate descent, plot the Lasso objective as a function of the iteration number."
   ]
  },
  {
   "cell_type": "code",
   "execution_count": 389,
   "id": "major-birthday",
   "metadata": {},
   "outputs": [
    {
     "data": {
      "text/plain": [
       "<matplotlib.legend.Legend at 0x7f3c8e92d7d0>"
      ]
     },
     "execution_count": 389,
     "metadata": {},
     "output_type": "execute_result"
    },
    {
     "data": {
      "image/png": "[encoded data removed]",
      "text/plain": [
       "<Figure size 432x288 with 1 Axes>"
      ]
     },
     "metadata": {
      "needs_background": "light"
     },
     "output_type": "display_data"
    }
   ],
   "source": [
    "max_iter = 20000\n",
    "\n",
    "cyclicB = cyclicoorddescent(beta_sc, scXs, scys, best_lamb, max_iter)\n",
    "randB = randcoorddescent(beta_sc, scXs, scys, best_lamb, max_iter)\n",
    "\n",
    "cyclic_obj = [computeobj(b, scXs, scys, best_lamb) for b in cyclicB]\n",
    "rand_obj = [computeobj(b, scXs, scys, best_lamb) for b in randB]\n",
    "\n",
    "plt.plot(cyclic_obj, label = 'cyclic')\n",
    "plt.plot(rand_obj, label = 'rand')\n",
    "plt.legend()"
   ]
  },
  {
   "cell_type": "markdown",
   "id": "corresponding-crisis",
   "metadata": {},
   "source": [
    "9. Compare the final iterate of each method to the result of sklearn's `Lasso`."
   ]
  },
  {
   "cell_type": "code",
   "execution_count": 390,
   "id": "young-clinic",
   "metadata": {},
   "outputs": [],
   "source": [
    "scm = Lasso(alpha = best_lamb).fit(scXs, scys)"
   ]
  },
  {
   "cell_type": "code",
   "execution_count": 392,
   "id": "infectious-strap",
   "metadata": {},
   "outputs": [
    {
     "data": {
      "text/plain": [
       "array([-0.        , -0.        , -0.45142002, -0.        , -0.        ,\n",
       "        0.        ,  0.07841981, -0.25991172,  0.38611701,  0.        ,\n",
       "        0.        , -0.        ,  0.        , -0.58010652,  0.        ,\n",
       "        0.        ,  0.06387462, -0.        , -0.        , -0.        ])"
      ]
     },
     "execution_count": 392,
     "metadata": {},
     "output_type": "execute_result"
    }
   ],
   "source": [
    "scm.coef_"
   ]
  },
  {
   "cell_type": "code",
   "execution_count": 394,
   "id": "fifteen-residence",
   "metadata": {},
   "outputs": [
    {
     "data": {
      "text/plain": [
       "array([ 0.        ,  0.        , -0.45144977,  0.        ,  0.        ,\n",
       "        0.        ,  0.07762793, -0.26003005,  0.38682371,  0.        ,\n",
       "        0.        ,  0.        ,  0.        , -0.58021548,  0.        ,\n",
       "        0.        ,  0.06388352,  0.        ,  0.        ,  0.        ])"
      ]
     },
     "execution_count": 394,
     "metadata": {},
     "output_type": "execute_result"
    }
   ],
   "source": [
    "cyclicB[-1]"
   ]
  },
  {
   "cell_type": "code",
   "execution_count": 395,
   "id": "cultural-texas",
   "metadata": {},
   "outputs": [
    {
     "data": {
      "text/plain": [
       "array([ 0.        ,  0.        , -0.45144977,  0.        ,  0.        ,\n",
       "        0.        ,  0.07762793, -0.26003005,  0.38682371,  0.        ,\n",
       "        0.        ,  0.        ,  0.        , -0.58021548,  0.        ,\n",
       "        0.        ,  0.06388352,  0.        ,  0.        ,  0.        ])"
      ]
     },
     "execution_count": 395,
     "metadata": {},
     "output_type": "execute_result"
    }
   ],
   "source": [
    "randB[-1]"
   ]
  },
  {
   "cell_type": "code",
   "execution_count": 398,
   "id": "historical-medium",
   "metadata": {},
   "outputs": [
    {
     "data": {
      "text/plain": [
       "array([-0.00000000e+00, -0.00000000e+00,  2.97442408e-05, -0.00000000e+00,\n",
       "       -0.00000000e+00,  0.00000000e+00,  7.91873947e-04,  1.18327314e-04,\n",
       "       -7.06694253e-04,  0.00000000e+00,  0.00000000e+00, -0.00000000e+00,\n",
       "        0.00000000e+00,  1.08956092e-04,  0.00000000e+00,  0.00000000e+00,\n",
       "       -8.90074977e-06, -0.00000000e+00, -0.00000000e+00, -0.00000000e+00])"
      ]
     },
     "execution_count": 398,
     "metadata": {},
     "output_type": "execute_result"
    }
   ],
   "source": [
    "scm.coef_ - cyclicB[-1]"
   ]
  },
  {
   "cell_type": "code",
   "execution_count": 399,
   "id": "precise-lighter",
   "metadata": {},
   "outputs": [
    {
     "data": {
      "text/plain": [
       "array([-0.00000000e+00, -0.00000000e+00,  2.97442408e-05, -0.00000000e+00,\n",
       "       -0.00000000e+00,  0.00000000e+00,  7.91873947e-04,  1.18327314e-04,\n",
       "       -7.06694253e-04,  0.00000000e+00,  0.00000000e+00, -0.00000000e+00,\n",
       "        0.00000000e+00,  1.08956092e-04,  0.00000000e+00,  0.00000000e+00,\n",
       "       -8.90074977e-06, -0.00000000e+00, -0.00000000e+00, -0.00000000e+00])"
      ]
     },
     "execution_count": 399,
     "metadata": {},
     "output_type": "execute_result"
    }
   ],
   "source": [
    "scm.coef_ - randB[-1]"
   ]
  },
  {
   "cell_type": "markdown",
   "id": "atmospheric-fiber",
   "metadata": {},
   "source": [
    "The three methods produce very close results."
   ]
  },
  {
   "cell_type": "markdown",
   "id": "honey-reform",
   "metadata": {},
   "source": [
    "10. Comment on the sparsity of the result. Which features are selected by your coordinate descent method?"
   ]
  },
  {
   "cell_type": "code",
   "execution_count": 400,
   "id": "quarterly-sudan",
   "metadata": {},
   "outputs": [
    {
     "data": {
      "text/plain": [
       "(array([ 2,  6,  7,  8, 13, 16]),)"
      ]
     },
     "execution_count": 400,
     "metadata": {},
     "output_type": "execute_result"
    }
   ],
   "source": [
    "np.nonzero(cyclicB[-1])"
   ]
  },
  {
   "cell_type": "code",
   "execution_count": 401,
   "id": "danish-today",
   "metadata": {},
   "outputs": [
    {
     "data": {
      "text/plain": [
       "(array([ 2,  6,  7,  8, 13, 16]),)"
      ]
     },
     "execution_count": 401,
     "metadata": {},
     "output_type": "execute_result"
    }
   ],
   "source": [
    "np.nonzero(randB[-1])"
   ]
  },
  {
   "cell_type": "code",
   "execution_count": 402,
   "id": "mysterious-confirmation",
   "metadata": {},
   "outputs": [
    {
     "data": {
      "text/plain": [
       "(array([ 2,  6,  7,  8, 13, 16]),)"
      ]
     },
     "execution_count": 402,
     "metadata": {},
     "output_type": "execute_result"
    }
   ],
   "source": [
    "np.nonzero(scm.coef_)"
   ]
  },
  {
   "cell_type": "code",
   "execution_count": 404,
   "id": "female-conspiracy",
   "metadata": {},
   "outputs": [
    {
     "data": {
      "text/plain": [
       "Index(['gmean_atomic_mass', 'range_atomic_mass', 'wtd_range_atomic_mass',\n",
       "       'std_atomic_mass', 'wtd_gmean_fie', 'range_fie'],\n",
       "      dtype='object')"
      ]
     },
     "execution_count": 404,
     "metadata": {},
     "output_type": "execute_result"
    }
   ],
   "source": [
    "sc_df.columns[np.nonzero(randB[-1])]"
   ]
  },
  {
   "cell_type": "markdown",
   "id": "brown-intake",
   "metadata": {},
   "source": [
    "`gmean_atomic_mass`, `range_atomic_mass`, `wtd_range_atomic_mass`, `std_atomic_mass`, `wtd_gmean_fie`, `range_fie` were the features chosen (from all three methods)"
   ]
  },
  {
   "cell_type": "markdown",
   "id": "essential-machine",
   "metadata": {},
   "source": [
    "11. Plot the regularization paths for the randomized variant of coordinate descent. Comment on the regularization paths."
   ]
  },
  {
   "cell_type": "code",
   "execution_count": 511,
   "id": "authorized-processing",
   "metadata": {},
   "outputs": [],
   "source": [
    "def get_lasso_coefs(X, y, lambs, sk=False):\n",
    "    \n",
    "    coefs = []\n",
    "    beta_init = np.zeros(X.shape[1])\n",
    "    \n",
    "    for lamb in lambs:\n",
    "        \n",
    "        if not sk:\n",
    "            \n",
    "            betas = randcoorddescent(beta_init, X, y, lamb, 20000)\n",
    "            coefs.append(betas[-1])\n",
    "            \n",
    "        else:\n",
    "            coefs.append(Lasso(alpha=lamb).fit(X, y).coef_)\n",
    "\n",
    "    \n",
    "    return np.array(coefs)"
   ]
  },
  {
   "cell_type": "code",
   "execution_count": 509,
   "id": "incorporated-place",
   "metadata": {},
   "outputs": [],
   "source": [
    "def plot_reg_path(coefs, lambs, df):\n",
    "    \n",
    "    d = coefs.shape[1]\n",
    "    fig = plt.figure(figsize=(10,10))\n",
    "    ax = fig.add_subplot()\n",
    "    col_name = df.columns\n",
    "    \n",
    "    for j in range(d):\n",
    "        \n",
    "        ax.plot(lambs, coefs[:,j], label=col_name[j])\n",
    "        \n",
    "\n",
    "    plt.gca().invert_xaxis() # plot w/ lambda decreasing from left to right\n",
    "    ax.set_xlabel(r'$\\lambda$')\n",
    "    ax.set_ylabel('coefficients')\n",
    "    ax.legend(frameon=False, loc='upper left', fontsize=10)"
   ]
  },
  {
   "cell_type": "code",
   "execution_count": 512,
   "id": "special-medication",
   "metadata": {},
   "outputs": [
    {
     "data": {
      "image/png": "[encoded data removed]",
      "text/plain": [
       "<Figure size 720x720 with 1 Axes>"
      ]
     },
     "metadata": {
      "needs_background": "light"
     },
     "output_type": "display_data"
    }
   ],
   "source": [
    "lamb_range = np.linspace(0.01, 1, 31)\n",
    "coefs = get_lasso_coefs(scXs, scys, lamb_range)\n",
    "plot_reg_path(coefs, lamb_range, sc_df)"
   ]
  },
  {
   "cell_type": "markdown",
   "id": "functional-extreme",
   "metadata": {},
   "source": [
    "With enough iterations, the regularization path shows that with increasing penalty, the coefficients are dropped to 0. \n",
    "The default `max_iter = 20` did not show the above chart, but showed the coefficients reverting to and from 0. At 20,000 iterations, the above chart shows similar output to coefficients calculated from sklearn's Lasso method."
   ]
  },
  {
   "cell_type": "code",
   "execution_count": 515,
   "id": "stunning-institute",
   "metadata": {},
   "outputs": [
    {
     "data": {
      "text/plain": [
       "Text(0.5, 1.0, 'sklearn Lasso method coefficients')"
      ]
     },
     "execution_count": 515,
     "metadata": {},
     "output_type": "execute_result"
    },
    {
     "data": {
      "image/png": "[encoded data removed]",
      "text/plain": [
       "<Figure size 720x720 with 1 Axes>"
      ]
     },
     "metadata": {
      "needs_background": "light"
     },
     "output_type": "display_data"
    }
   ],
   "source": [
    "coefs_sk = get_lasso_coefs(scXs, scys, lamb_range, True)\n",
    "plot_reg_path(coefs_sk, lamb_range, sc_df)\n",
    "plt.title('sklearn Lasso method coefficients')"
   ]
  }
 ],
 "metadata": {
  "kernelspec": {
   "display_name": "Python [conda env:DATA558] *",
   "language": "python",
   "name": "conda-env-DATA558-py"
  },
  "language_info": {
   "codemirror_mode": {
    "name": "ipython",
    "version": 3
   },
   "file_extension": ".py",
   "mimetype": "text/x-python",
   "name": "python",
   "nbconvert_exporter": "python",
   "pygments_lexer": "ipython3",
   "version": "3.7.10"
  }
 },
 "nbformat": 4,
 "nbformat_minor": 5
}
