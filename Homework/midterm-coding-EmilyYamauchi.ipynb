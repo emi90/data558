{
 "cells": [
  {
   "cell_type": "markdown",
   "id": "personal-trance",
   "metadata": {},
   "source": [
    "## Midterm\n",
    "\n",
    "#### Emily Yamauchi"
   ]
  },
  {
   "cell_type": "markdown",
   "id": "wired-treasury",
   "metadata": {},
   "source": [
    "#### Exercise 1. \n",
    "\n",
    "In this exercise, you will implement in **Python** a first version of your own $\\ell_2^2$-regularized binary logistic regression with $\\rho$-logistic loss. You will write your own code for all functions: accelerated gradient algorithm, backtracking line search, $\\ell_2^2$-regularized binary logistic regression with $\\rho$-logistic loss, 10x2 validation.  \n",
    "\n",
    "The $\\ell_2^2$-regularized binary logistic regression with $\\rho$-logistic loss is a supervised binary classification method, similar to $\\ell_2^2$-regularized binary logistic regrssion:  \n",
    "\n",
    "$$\n",
    "\\begin{align}\n",
    "\\min_{\\beta\\in\\mathbb{R}^d}F(\\beta):=\\frac{1}{n}\\sum_{i=1}^n\\frac{1}{\\rho}\\log(1+\\exp(-\\rho y_ix_i^\\top\\beta)) + \\lambda||\\beta||_2^2\n",
    "\\end{align}\n",
    "$$"
   ]
  },
  {
   "cell_type": "code",
   "execution_count": 1,
   "id": "african-spokesman",
   "metadata": {},
   "outputs": [],
   "source": [
    "import numpy as np\n",
    "import pandas as pd"
   ]
  },
  {
   "cell_type": "code",
   "execution_count": 2,
   "id": "better-pattern",
   "metadata": {},
   "outputs": [],
   "source": [
    "def objective_func(beta, lamb, rho, X, y):\n",
    "    \"\"\"\n",
    "    Compute the objective function\n",
    "    \"\"\"\n",
    "    \n",
    "    n = X.shape[0]\n",
    "    f1 = np.sum((1/rho)*np.log(1 + np.exp(-rho*y*X.dot(beta))))\n",
    "    f2 = lamb*np.linalg.norm(beta)**2\n",
    "    \n",
    "    return f1/n + f2"
   ]
  },
  {
   "cell_type": "markdown",
   "id": "after-rugby",
   "metadata": {},
   "source": [
    "(a) Compute the gradient $\\nabla F(\\beta)$ of $F$. "
   ]
  },
  {
   "cell_type": "markdown",
   "id": "split-prague",
   "metadata": {},
   "source": [
    "$$\n",
    "\\begin{align}\n",
    "F(\\beta)&=\\frac{1}{n}\\sum_{i=1}^n\\frac{1}{\\rho}\\log(1+\\exp(-\\rho y_ix_i^\\top\\beta))+\\lambda\\beta^\\top\\beta \\\\\n",
    "\\nabla F(\\beta)&=\\frac{1}{n}\\sum_{i=1}^n\\nabla\\frac{1}{\\rho}\\log(1+\\exp(-\\rho y_ix_i^\\top\\beta))+\\lambda\\nabla \\beta^\\top I\\beta \\\\\n",
    "&=-\\frac{1}{n}\\sum_{i=1}^ny_ix_i^\\top\\frac{\\exp(-\\rho y_ix_i^\\top\\beta)}{1+\\exp(-\\rho y_ix_i^\\top\\beta)}+2\\lambda\\beta\n",
    "\\end{align}\n",
    "$$"
   ]
  },
  {
   "cell_type": "code",
   "execution_count": 3,
   "id": "computational-proposition",
   "metadata": {},
   "outputs": [],
   "source": [
    "def compute_grad(beta, lamb, rho, X, y):\n",
    "    \"\"\"\n",
    "    Compute the gradient of function F\n",
    "    \"\"\"\n",
    "    \n",
    "    n = X.shape[0]\n",
    "    exp = np.exp((X.T*y).T.dot(beta) * -rho)\n",
    "    Q = np.diag(exp/(1+exp))\n",
    "    \n",
    "    f1 = -np.dot(X.T, np.dot(Q, y))/n\n",
    "    f2 = 2*lamb*beta\n",
    "    \n",
    "    return f1 + f2"
   ]
  },
  {
   "cell_type": "markdown",
   "id": "solar-network",
   "metadata": {},
   "source": [
    "(b) Consider the `Algerian forest fire` dataset from the UCI Machine Learning Repository.  \n",
    "\n",
    "Clean and preprocess the data, including the following steps:  \n",
    "\n",
    "- Remove the `day`, `month`, `year` columns.\n",
    "- Handle `NA` values.\n",
    "- Let the features $X$ include all remaining columns *other than* `Classes`.\n",
    "- Convert the labels in `Classes`to $+1$ for \"fire\" and $-1$ for \"not fire\". Report and handle any cases not falling into these categories. \n",
    "- Perform an 80/20 train-test split of the data. \n",
    "- Standardize the features."
   ]
  },
  {
   "cell_type": "code",
   "execution_count": 4,
   "id": "published-driving",
   "metadata": {},
   "outputs": [],
   "source": [
    "fire_df = pd.read_csv('data/Algerian_forest_fires_dataset_UPDATE.csv', skiprows=1)"
   ]
  },
  {
   "cell_type": "code",
   "execution_count": 5,
   "id": "derived-norfolk",
   "metadata": {},
   "outputs": [
    {
     "data": {
      "text/html": [
       "<div>\n",
       "<style scoped>\n",
       "    .dataframe tbody tr th:only-of-type {\n",
       "        vertical-align: middle;\n",
       "    }\n",
       "\n",
       "    .dataframe tbody tr th {\n",
       "        vertical-align: top;\n",
       "    }\n",
       "\n",
       "    .dataframe thead th {\n",
       "        text-align: right;\n",
       "    }\n",
       "</style>\n",
       "<table border=\"1\" class=\"dataframe\">\n",
       "  <thead>\n",
       "    <tr style=\"text-align: right;\">\n",
       "      <th></th>\n",
       "      <th>day</th>\n",
       "      <th>month</th>\n",
       "      <th>year</th>\n",
       "      <th>Temperature</th>\n",
       "      <th>RH</th>\n",
       "      <th>Ws</th>\n",
       "      <th>Rain</th>\n",
       "      <th>FFMC</th>\n",
       "      <th>DMC</th>\n",
       "      <th>DC</th>\n",
       "      <th>ISI</th>\n",
       "      <th>BUI</th>\n",
       "      <th>FWI</th>\n",
       "      <th>Classes</th>\n",
       "    </tr>\n",
       "  </thead>\n",
       "  <tbody>\n",
       "    <tr>\n",
       "      <th>0</th>\n",
       "      <td>01</td>\n",
       "      <td>06</td>\n",
       "      <td>2012</td>\n",
       "      <td>29</td>\n",
       "      <td>57</td>\n",
       "      <td>18</td>\n",
       "      <td>0</td>\n",
       "      <td>65.7</td>\n",
       "      <td>3.4</td>\n",
       "      <td>7.6</td>\n",
       "      <td>1.3</td>\n",
       "      <td>3.4</td>\n",
       "      <td>0.5</td>\n",
       "      <td>not fire</td>\n",
       "    </tr>\n",
       "    <tr>\n",
       "      <th>1</th>\n",
       "      <td>02</td>\n",
       "      <td>06</td>\n",
       "      <td>2012</td>\n",
       "      <td>29</td>\n",
       "      <td>61</td>\n",
       "      <td>13</td>\n",
       "      <td>1.3</td>\n",
       "      <td>64.4</td>\n",
       "      <td>4.1</td>\n",
       "      <td>7.6</td>\n",
       "      <td>1</td>\n",
       "      <td>3.9</td>\n",
       "      <td>0.4</td>\n",
       "      <td>not fire</td>\n",
       "    </tr>\n",
       "    <tr>\n",
       "      <th>2</th>\n",
       "      <td>03</td>\n",
       "      <td>06</td>\n",
       "      <td>2012</td>\n",
       "      <td>26</td>\n",
       "      <td>82</td>\n",
       "      <td>22</td>\n",
       "      <td>13.1</td>\n",
       "      <td>47.1</td>\n",
       "      <td>2.5</td>\n",
       "      <td>7.1</td>\n",
       "      <td>0.3</td>\n",
       "      <td>2.7</td>\n",
       "      <td>0.1</td>\n",
       "      <td>not fire</td>\n",
       "    </tr>\n",
       "    <tr>\n",
       "      <th>3</th>\n",
       "      <td>04</td>\n",
       "      <td>06</td>\n",
       "      <td>2012</td>\n",
       "      <td>25</td>\n",
       "      <td>89</td>\n",
       "      <td>13</td>\n",
       "      <td>2.5</td>\n",
       "      <td>28.6</td>\n",
       "      <td>1.3</td>\n",
       "      <td>6.9</td>\n",
       "      <td>0</td>\n",
       "      <td>1.7</td>\n",
       "      <td>0</td>\n",
       "      <td>not fire</td>\n",
       "    </tr>\n",
       "    <tr>\n",
       "      <th>4</th>\n",
       "      <td>05</td>\n",
       "      <td>06</td>\n",
       "      <td>2012</td>\n",
       "      <td>27</td>\n",
       "      <td>77</td>\n",
       "      <td>16</td>\n",
       "      <td>0</td>\n",
       "      <td>64.8</td>\n",
       "      <td>3</td>\n",
       "      <td>14.2</td>\n",
       "      <td>1.2</td>\n",
       "      <td>3.9</td>\n",
       "      <td>0.5</td>\n",
       "      <td>not fire</td>\n",
       "    </tr>\n",
       "  </tbody>\n",
       "</table>\n",
       "</div>"
      ],
      "text/plain": [
       "  day month  year Temperature  RH  Ws Rain   FFMC  DMC    DC  ISI  BUI  FWI  \\\n",
       "0  01    06  2012          29  57  18     0  65.7  3.4   7.6  1.3  3.4  0.5   \n",
       "1  02    06  2012          29  61  13   1.3  64.4  4.1   7.6    1  3.9  0.4   \n",
       "2  03    06  2012          26  82  22  13.1  47.1  2.5   7.1  0.3  2.7  0.1   \n",
       "3  04    06  2012          25  89  13   2.5  28.6  1.3   6.9    0  1.7    0   \n",
       "4  05    06  2012          27  77  16     0  64.8    3  14.2  1.2  3.9  0.5   \n",
       "\n",
       "     Classes    \n",
       "0  not fire     \n",
       "1  not fire     \n",
       "2  not fire     \n",
       "3  not fire     \n",
       "4  not fire     "
      ]
     },
     "execution_count": 5,
     "metadata": {},
     "output_type": "execute_result"
    }
   ],
   "source": [
    "fire_df.head()"
   ]
  },
  {
   "cell_type": "code",
   "execution_count": 6,
   "id": "missing-metadata",
   "metadata": {},
   "outputs": [
    {
     "data": {
      "text/html": [
       "<div>\n",
       "<style scoped>\n",
       "    .dataframe tbody tr th:only-of-type {\n",
       "        vertical-align: middle;\n",
       "    }\n",
       "\n",
       "    .dataframe tbody tr th {\n",
       "        vertical-align: top;\n",
       "    }\n",
       "\n",
       "    .dataframe thead th {\n",
       "        text-align: right;\n",
       "    }\n",
       "</style>\n",
       "<table border=\"1\" class=\"dataframe\">\n",
       "  <thead>\n",
       "    <tr style=\"text-align: right;\">\n",
       "      <th></th>\n",
       "      <th>day</th>\n",
       "      <th>month</th>\n",
       "      <th>year</th>\n",
       "      <th>Temperature</th>\n",
       "      <th>RH</th>\n",
       "      <th>Ws</th>\n",
       "      <th>Rain</th>\n",
       "      <th>FFMC</th>\n",
       "      <th>DMC</th>\n",
       "      <th>DC</th>\n",
       "      <th>ISI</th>\n",
       "      <th>BUI</th>\n",
       "      <th>FWI</th>\n",
       "      <th>Classes</th>\n",
       "    </tr>\n",
       "  </thead>\n",
       "  <tbody>\n",
       "    <tr>\n",
       "      <th>count</th>\n",
       "      <td>246</td>\n",
       "      <td>245</td>\n",
       "      <td>245</td>\n",
       "      <td>245</td>\n",
       "      <td>245</td>\n",
       "      <td>245</td>\n",
       "      <td>245</td>\n",
       "      <td>245</td>\n",
       "      <td>245</td>\n",
       "      <td>245</td>\n",
       "      <td>245</td>\n",
       "      <td>245</td>\n",
       "      <td>245</td>\n",
       "      <td>244</td>\n",
       "    </tr>\n",
       "    <tr>\n",
       "      <th>unique</th>\n",
       "      <td>33</td>\n",
       "      <td>5</td>\n",
       "      <td>2</td>\n",
       "      <td>20</td>\n",
       "      <td>63</td>\n",
       "      <td>19</td>\n",
       "      <td>40</td>\n",
       "      <td>174</td>\n",
       "      <td>167</td>\n",
       "      <td>199</td>\n",
       "      <td>107</td>\n",
       "      <td>175</td>\n",
       "      <td>128</td>\n",
       "      <td>9</td>\n",
       "    </tr>\n",
       "    <tr>\n",
       "      <th>top</th>\n",
       "      <td>10</td>\n",
       "      <td>07</td>\n",
       "      <td>2012</td>\n",
       "      <td>35</td>\n",
       "      <td>55</td>\n",
       "      <td>14</td>\n",
       "      <td>0</td>\n",
       "      <td>88.9</td>\n",
       "      <td>7.9</td>\n",
       "      <td>8</td>\n",
       "      <td>1.1</td>\n",
       "      <td>3</td>\n",
       "      <td>0.4</td>\n",
       "      <td>fire</td>\n",
       "    </tr>\n",
       "    <tr>\n",
       "      <th>freq</th>\n",
       "      <td>8</td>\n",
       "      <td>62</td>\n",
       "      <td>244</td>\n",
       "      <td>29</td>\n",
       "      <td>10</td>\n",
       "      <td>43</td>\n",
       "      <td>133</td>\n",
       "      <td>8</td>\n",
       "      <td>5</td>\n",
       "      <td>5</td>\n",
       "      <td>8</td>\n",
       "      <td>5</td>\n",
       "      <td>12</td>\n",
       "      <td>131</td>\n",
       "    </tr>\n",
       "  </tbody>\n",
       "</table>\n",
       "</div>"
      ],
      "text/plain": [
       "        day month  year Temperature   RH   Ws Rain   FFMC  DMC   DC  ISI  BUI  \\\n",
       "count   246   245   245         245  245  245   245   245  245  245  245  245   \n",
       "unique   33     5     2          20   63   19    40   174  167  199  107  175   \n",
       "top      10    07  2012          35   55   14     0  88.9  7.9    8  1.1    3   \n",
       "freq      8    62   244          29   10   43   133     8    5    5    8    5   \n",
       "\n",
       "        FWI Classes    \n",
       "count   245       244  \n",
       "unique  128         9  \n",
       "top     0.4   fire     \n",
       "freq     12       131  "
      ]
     },
     "execution_count": 6,
     "metadata": {},
     "output_type": "execute_result"
    }
   ],
   "source": [
    "fire_df.describe()"
   ]
  },
  {
   "cell_type": "code",
   "execution_count": 7,
   "id": "metropolitan-differential",
   "metadata": {},
   "outputs": [
    {
     "data": {
      "text/plain": [
       "day            0\n",
       "month          1\n",
       "year           1\n",
       "Temperature    1\n",
       " RH            1\n",
       " Ws            1\n",
       "Rain           1\n",
       "FFMC           1\n",
       "DMC            1\n",
       "DC             1\n",
       "ISI            1\n",
       "BUI            1\n",
       "FWI            1\n",
       "Classes        2\n",
       "dtype: int64"
      ]
     },
     "execution_count": 7,
     "metadata": {},
     "output_type": "execute_result"
    }
   ],
   "source": [
    "fire_df.isna().sum()"
   ]
  },
  {
   "cell_type": "code",
   "execution_count": 8,
   "id": "junior-alberta",
   "metadata": {},
   "outputs": [],
   "source": [
    "# Remove day, month, year; handle NAs\n",
    "\n",
    "df = fire_df.drop(columns = ['day', 'month', 'year']).dropna()\n",
    "\n",
    "# only 2 NA vs 245 rows, so feel safe to drop\n",
    "\n",
    "df = df.rename(columns = lambda x: x.strip())"
   ]
  },
  {
   "cell_type": "code",
   "execution_count": 9,
   "id": "closing-cassette",
   "metadata": {},
   "outputs": [
    {
     "data": {
      "text/plain": [
       "array(['not fire   ', 'fire   ', 'fire', 'fire ', 'not fire', 'not fire ',\n",
       "       'Classes  ', 'not fire     ', 'not fire    '], dtype=object)"
      ]
     },
     "execution_count": 9,
     "metadata": {},
     "output_type": "execute_result"
    }
   ],
   "source": [
    "df['Classes'].unique()"
   ]
  },
  {
   "cell_type": "code",
   "execution_count": 10,
   "id": "beneficial-filling",
   "metadata": {},
   "outputs": [
    {
     "data": {
      "text/html": [
       "<div>\n",
       "<style scoped>\n",
       "    .dataframe tbody tr th:only-of-type {\n",
       "        vertical-align: middle;\n",
       "    }\n",
       "\n",
       "    .dataframe tbody tr th {\n",
       "        vertical-align: top;\n",
       "    }\n",
       "\n",
       "    .dataframe thead th {\n",
       "        text-align: right;\n",
       "    }\n",
       "</style>\n",
       "<table border=\"1\" class=\"dataframe\">\n",
       "  <thead>\n",
       "    <tr style=\"text-align: right;\">\n",
       "      <th></th>\n",
       "      <th>Temperature</th>\n",
       "      <th>RH</th>\n",
       "      <th>Ws</th>\n",
       "      <th>Rain</th>\n",
       "      <th>FFMC</th>\n",
       "      <th>DMC</th>\n",
       "      <th>DC</th>\n",
       "      <th>ISI</th>\n",
       "      <th>BUI</th>\n",
       "      <th>FWI</th>\n",
       "      <th>Classes</th>\n",
       "    </tr>\n",
       "  </thead>\n",
       "  <tbody>\n",
       "    <tr>\n",
       "      <th>123</th>\n",
       "      <td>Temperature</td>\n",
       "      <td>RH</td>\n",
       "      <td>Ws</td>\n",
       "      <td>Rain</td>\n",
       "      <td>FFMC</td>\n",
       "      <td>DMC</td>\n",
       "      <td>DC</td>\n",
       "      <td>ISI</td>\n",
       "      <td>BUI</td>\n",
       "      <td>FWI</td>\n",
       "      <td>Classes</td>\n",
       "    </tr>\n",
       "  </tbody>\n",
       "</table>\n",
       "</div>"
      ],
      "text/plain": [
       "     Temperature   RH   Ws   Rain  FFMC  DMC  DC  ISI  BUI  FWI  Classes\n",
       "123  Temperature   RH   Ws  Rain   FFMC  DMC  DC  ISI  BUI  FWI  Classes"
      ]
     },
     "execution_count": 10,
     "metadata": {},
     "output_type": "execute_result"
    }
   ],
   "source": [
    "df['Classes'] = df['Classes'].str.strip()\n",
    "\n",
    "df.loc[df['Classes'] == 'Classes']"
   ]
  },
  {
   "cell_type": "code",
   "execution_count": 11,
   "id": "removable-colorado",
   "metadata": {},
   "outputs": [],
   "source": [
    "# duplicate column name row, just drop\n",
    "\n",
    "df = df.drop(df.loc[df['Classes'] == 'Classes'].index)"
   ]
  },
  {
   "cell_type": "code",
   "execution_count": 12,
   "id": "interracial-sheep",
   "metadata": {},
   "outputs": [],
   "source": [
    "df_bin = [1 if x == 'fire' else -1 if x == 'not fire' else x for x in df['Classes']]"
   ]
  },
  {
   "cell_type": "code",
   "execution_count": 13,
   "id": "alike-failure",
   "metadata": {},
   "outputs": [],
   "source": [
    "df_cols = df.columns\n",
    "\n",
    "df_features = df[df_cols[:-1]].apply(pd.to_numeric, errors='coerce', axis=1)"
   ]
  },
  {
   "cell_type": "code",
   "execution_count": 14,
   "id": "knowing-workstation",
   "metadata": {},
   "outputs": [
    {
     "name": "stdout",
     "output_type": "stream",
     "text": [
      "X.shape:  (243, 10)\n",
      "y.shape:  (243,)\n"
     ]
    }
   ],
   "source": [
    "X = np.array(df_features)\n",
    "y = np.array(df_bin)\n",
    "\n",
    "print('X.shape: ',X.shape)\n",
    "print('y.shape: ',y.shape)"
   ]
  },
  {
   "cell_type": "code",
   "execution_count": 15,
   "id": "informed-lebanon",
   "metadata": {},
   "outputs": [],
   "source": [
    "from sklearn.preprocessing import StandardScaler\n",
    "from sklearn.model_selection import train_test_split"
   ]
  },
  {
   "cell_type": "code",
   "execution_count": 16,
   "id": "inclusive-revelation",
   "metadata": {},
   "outputs": [],
   "source": [
    "X_train, X_test, y_train, y_test = train_test_split(X, y, train_size = 0.8)"
   ]
  },
  {
   "cell_type": "code",
   "execution_count": 17,
   "id": "molecular-crazy",
   "metadata": {},
   "outputs": [],
   "source": [
    "Xs = np.array((X_train - X_train.mean())/X_train.std())"
   ]
  },
  {
   "cell_type": "markdown",
   "id": "demonstrated-prophet",
   "metadata": {},
   "source": [
    "(c) Write a function *myrhologistic* that implements the fast gradient algorithm to train the $\\ell_2^2$ regularized binary logistic regression with $\\rho-$logistic loss. The function takes as input the initial step-size for the backtracking rule, the $\\epsilon$ for the stopping criterion based on the norm of the gradient of the objective, and the value of $\\rho$. The code in this part should include the following components, all implemented by hand:  \n",
    "\n",
    "- The $\\rho-$logistic function\n",
    "- The gradient of the $\\rho-$logistic loss function\n",
    "- Backtracking line search\n",
    "- Fast gradient descent"
   ]
  },
  {
   "cell_type": "code",
   "execution_count": 18,
   "id": "photographic-chain",
   "metadata": {},
   "outputs": [],
   "source": [
    "def rhologisticloss(beta, lamb, rho, X, y):\n",
    "    \n",
    "    n = X.shape[0]\n",
    "    f1 = np.sum((1/rho)*np.log(1 + np.exp(-rho*y*X.dot(beta))))\n",
    "    f2 = lamb*np.linalg.norm(beta)**2\n",
    "    \n",
    "    return f1/n + f2\n",
    "\n",
    "\n",
    "def rhologisticgrad(beta, lamb, rho, X, y):\n",
    "    \n",
    "    n = X.shape[0]\n",
    "    exp = np.exp((X.T*y).T.dot(beta) * -rho)\n",
    "    Q = np.diag(exp/(1+exp))\n",
    "    \n",
    "    f1 = -np.dot(X.T, np.dot(Q, y))/n\n",
    "    f2 = 2*lamb*beta\n",
    "    \n",
    "    return f1 + f2"
   ]
  },
  {
   "cell_type": "code",
   "execution_count": 19,
   "id": "legendary-supplier",
   "metadata": {},
   "outputs": [],
   "source": [
    "def backtracking(beta, lamb, rho, eta_init, decay_rate, prop_constant, X, y):\n",
    "    \n",
    "    eta = eta_init\n",
    "    \n",
    "    def f(beta):\n",
    "        return objective_func(beta, lamb, rho, X, y)\n",
    "    \n",
    "    def f_grad(beta):\n",
    "        return compute_grad(beta, lamb, rho, X, y)\n",
    "    \n",
    "    def sufficient_decrease(eta):\n",
    "        p = -f_grad(beta)\n",
    "        lhs = f(beta + eta * p) - f(beta)\n",
    "        rhs = prop_constant * eta * np.dot(f_grad(beta), p)\n",
    "        return lhs <= rhs\n",
    "    \n",
    "    while not sufficient_decrease(eta):\n",
    "        eta *= decay_rate\n",
    "    \n",
    "    return eta"
   ]
  },
  {
   "cell_type": "code",
   "execution_count": 20,
   "id": "careful-position",
   "metadata": {},
   "outputs": [],
   "source": [
    "def fastgradalgo(beta_init, theta_init, lamb, rho, eta_init, X, y, epsilon):\n",
    "    \n",
    "    eta = eta_init\n",
    "    beta_t = beta_init\n",
    "    theta_t = theta_init\n",
    "    betas = [beta_t]\n",
    "    t = 0\n",
    "    \n",
    "    def f(beta):\n",
    "        return objective_func(beta, lamb, rho, X, y)\n",
    "    \n",
    "    def f_grad(beta):\n",
    "        return compute_grad(beta, lamb, rho, X, y)\n",
    "    \n",
    "    def f_norm(beta):\n",
    "        return np.linalg.norm(f_grad(beta))\n",
    "    \n",
    "    while not f_norm(beta_t) <= epsilon:\n",
    "        \n",
    "        beta_1 = theta_t - eta * f_grad(theta_t)\n",
    "        theta_t = beta_1 + (t/(t+3)) * (beta_1 - beta_t)\n",
    "        betas.append(beta_1)\n",
    "        eta = backtracking(beta_t, lamb, rho, eta, 0.8, 0.5, X, y)\n",
    "        beta_t = beta_1\n",
    "        t += 1\n",
    "    \n",
    "    return betas"
   ]
  },
  {
   "cell_type": "code",
   "execution_count": 21,
   "id": "adequate-confidentiality",
   "metadata": {},
   "outputs": [],
   "source": [
    "def myrhologistic(X, y, lamb, rho, eta_init, epsilon):\n",
    "    \n",
    "    beta_init = np.zeros(X.shape[1])\n",
    "    theta_init = np.zeros(X.shape[1])\n",
    "    betas = fastgradalgo(beta_init, theta_init, lamb, rho, eta_init, X, y, epsilon)\n",
    "    \n",
    "    return betas[-1]"
   ]
  },
  {
   "cell_type": "markdown",
   "id": "considered-sight",
   "metadata": {},
   "source": [
    "(d) Train your $\\ell_2^2$-regularized binary logistic regression with $\\rho$-logistic loss with $\\rho=2$ and $\\epsilon=1\\times10^{-3}$ on the `Algerian forest fire` training data, setting $\\lambda=1$. Report your misclassification error for this value of $\\lambda$."
   ]
  },
  {
   "cell_type": "code",
   "execution_count": 22,
   "id": "technical-safety",
   "metadata": {},
   "outputs": [],
   "source": [
    "rho = 2\n",
    "epsilon = 10**-3\n",
    "lamb = 1\n",
    "eta_init = 0.1"
   ]
  },
  {
   "cell_type": "code",
   "execution_count": 23,
   "id": "needed-longitude",
   "metadata": {},
   "outputs": [],
   "source": [
    "beta_calc = myrhologistic(Xs, y_train, lamb, rho, eta_init, epsilon)"
   ]
  },
  {
   "cell_type": "code",
   "execution_count": 24,
   "id": "married-antarctica",
   "metadata": {},
   "outputs": [],
   "source": [
    "def get_y_pred(beta, X):\n",
    "    \"\"\"\n",
    "    Return the predicted value of y given beta and X\n",
    "    \"\"\"\n",
    "    \n",
    "    pred = np.exp(np.dot(X, beta))/(1+np.exp(np.dot(X, beta)))\n",
    "    y_pred = [1 if y > 0.5 else -1 for y in list(pred)]\n",
    "    \n",
    "    return np.array(y_pred)\n",
    "\n",
    "\n",
    "def get_misclassification(beta, X, y):\n",
    "    \"\"\"\n",
    "    Return misclassification rate (100% - correct%) given the true y and predicted value derived from beta and X\n",
    "    \"\"\"\n",
    "    \n",
    "    y_pred = get_y_pred(beta, X)\n",
    "    \n",
    "    return 1 - np.mean(y == y_pred)"
   ]
  },
  {
   "cell_type": "code",
   "execution_count": 25,
   "id": "preceding-warehouse",
   "metadata": {},
   "outputs": [
    {
     "data": {
      "text/plain": [
       "0.40816326530612246"
      ]
     },
     "execution_count": 25,
     "metadata": {},
     "output_type": "execute_result"
    }
   ],
   "source": [
    "get_misclassification(beta_calc, X_test, y_test)"
   ]
  },
  {
   "cell_type": "markdown",
   "id": "experimental-brunei",
   "metadata": {},
   "source": [
    "(e) Write a function *tenbytwoval* that implements $10\\times2$ validation. $10\\times2$ validation is defined similarly to $5\\times2$ validation, which we have seen in the labs and lecture, but with 10 random splits of the training data.  \n",
    "\n",
    "Your *tenbytwoval* function should use the code you've written above, along with hand-implemented helper functions to:  \n",
    "\n",
    "- Compute label predictions given training data and a parameter vector $\\beta$\n",
    "- Compute the prediction accuracy, given the label predictions and the true labels"
   ]
  },
  {
   "cell_type": "code",
   "execution_count": 26,
   "id": "chronic-small",
   "metadata": {},
   "outputs": [],
   "source": [
    "def tenbytwoval(X, y, lambs):\n",
    "    \"\"\"\n",
    "    Perform a ten-by-two validation\n",
    "    For each value of your hyperparameter, repeat the following procedure 10 times:\n",
    "    -Shuffle the indices of the training data.\n",
    "    -Split the training data evenly into two parts. Call these the \"train\" and \"validation\" sets.\n",
    "    -Train the model using data from the \"train\" set.\n",
    "    -Generate model predictions for the \"validation\" set and record the prediction accuracy.\n",
    "    -Swap the role of the \"train\" and \"validation\" sets and repeat the training and prediction steps above.\n",
    "    Select the hyperparameter value with the best average prediction accuracy over all 20 trials.\n",
    "    \"\"\"\n",
    "        \n",
    "    eta_init = 0.1\n",
    "    rho = 2\n",
    "    epsilon = 10**-3\n",
    "    n = X.shape[0]\n",
    "    lamb_acc = np.zeros((20, len(lambs)))\n",
    "    \n",
    "    for j in range(len(lambs)):\n",
    "        \n",
    "        for i in range(10):\n",
    "            #shuffle index\n",
    "            ix = np.random.choice(n, size=n, replace = False)\n",
    "            X_shuffle = X[ix]\n",
    "            y_shuffle = y[ix]\n",
    "            \n",
    "            #split training/validation data\n",
    "            X_train = np.split(X_shuffle, 2)[0]\n",
    "            X_val = np.split(X_shuffle, 2)[1]\n",
    "            y_train = np.split(y_shuffle, 2)[0]\n",
    "            y_val = np.split(y_shuffle, 2)[1]\n",
    "            \n",
    "            #train model\n",
    "            beta = myrhologistic(X_train, y_train, lambs[j], rho, eta_init, epsilon)\n",
    "            \n",
    "            #predict on validation, get accuracy\n",
    "            lamb_acc[2*i, j] = get_misclassification(beta, X_val, y_val)\n",
    "            \n",
    "            #swap\n",
    "            beta_swap = myrhologistic(X_val, y_val, lambs[j], rho, eta_init, epsilon)\n",
    "            lamb_acc[2*i+1, j] = get_misclassification(beta_swap, X_train, y_train)\n",
    "    \n",
    "    return lamb_acc"
   ]
  },
  {
   "cell_type": "markdown",
   "id": "nuclear-particular",
   "metadata": {},
   "source": [
    "(f) Find the optimal value of $\\lambda$ using $10\\times2$ validation. Fit the model to the training data using the $\\rho-$logistic loss, using this value of $\\lambda$, and again with $\\rho=2, \\epsilon=1\\times10^{-3}$. Plot the value of the objective function versus the iteration number Plot the misclassification error on the train and test sets as a function of the iteration number. Report the final misclassification error on the test set."
   ]
  },
  {
   "cell_type": "code",
   "execution_count": 27,
   "id": "grand-fundamentals",
   "metadata": {},
   "outputs": [
    {
     "name": "stdout",
     "output_type": "stream",
     "text": [
      "best_lamb:  0.01\n"
     ]
    }
   ],
   "source": [
    "lambs = np.logspace(-2, 4, 20)\n",
    "lambs_results = tenbytwoval(Xs, y_train, lambs)\n",
    "best_lamb = lambs[np.argmin(lambs_results.mean(axis=0))]\n",
    "\n",
    "print('best_lamb: ', best_lamb)"
   ]
  },
  {
   "cell_type": "code",
   "execution_count": 28,
   "id": "million-district",
   "metadata": {},
   "outputs": [],
   "source": [
    "import matplotlib.pyplot as plt"
   ]
  },
  {
   "cell_type": "code",
   "execution_count": 29,
   "id": "tested-nation",
   "metadata": {},
   "outputs": [],
   "source": [
    "beta_init = np.zeros(Xs.shape[1])\n",
    "theta_init = np.zeros(Xs.shape[1])\n",
    "betas = fastgradalgo(beta_init, theta_init, best_lamb, rho, eta_init, Xs, y_train, epsilon)"
   ]
  },
  {
   "cell_type": "code",
   "execution_count": 30,
   "id": "first-brush",
   "metadata": {},
   "outputs": [],
   "source": [
    "obj_values = [objective_func(b, best_lamb, rho, Xs, y_train) for b in betas]"
   ]
  },
  {
   "cell_type": "code",
   "execution_count": 31,
   "id": "initial-ethernet",
   "metadata": {},
   "outputs": [
    {
     "data": {
      "text/plain": [
       "Text(0, 0.5, 'Objective Value')"
      ]
     },
     "execution_count": 31,
     "metadata": {},
     "output_type": "execute_result"
    },
    {
     "data": {
      "image/png": "[encoded data removed]",
      "text/plain": [
       "<Figure size 432x288 with 1 Axes>"
      ]
     },
     "metadata": {
      "needs_background": "light"
     },
     "output_type": "display_data"
    }
   ],
   "source": [
    "plt.plot(obj_values)\n",
    "plt.xlabel('iteration')\n",
    "plt.ylabel('Objective Value')"
   ]
  },
  {
   "cell_type": "code",
   "execution_count": 32,
   "id": "built-stuff",
   "metadata": {},
   "outputs": [],
   "source": [
    "misclass_values = [get_misclassification(b, X_test, y_test) for b in betas]"
   ]
  },
  {
   "cell_type": "code",
   "execution_count": 33,
   "id": "adolescent-remedy",
   "metadata": {},
   "outputs": [
    {
     "data": {
      "text/plain": [
       "Text(0, 0.5, 'Misclassification Value')"
      ]
     },
     "execution_count": 33,
     "metadata": {},
     "output_type": "execute_result"
    },
    {
     "data": {
      "image/png": "[encoded data removed]",
      "text/plain": [
       "<Figure size 432x288 with 1 Axes>"
      ]
     },
     "metadata": {
      "needs_background": "light"
     },
     "output_type": "display_data"
    }
   ],
   "source": [
    "plt.plot(misclass_values)\n",
    "plt.xlabel('iteration')\n",
    "plt.ylabel('Misclassification Value')"
   ]
  },
  {
   "cell_type": "code",
   "execution_count": 34,
   "id": "natural-marijuana",
   "metadata": {},
   "outputs": [
    {
     "name": "stdout",
     "output_type": "stream",
     "text": [
      "Final misclassification value:  0.40816326530612246\n"
     ]
    }
   ],
   "source": [
    "print('Final misclassification value: ', misclass_values[-1])"
   ]
  }
 ],
 "metadata": {
  "kernelspec": {
   "display_name": "Python [conda env:DATA558] *",
   "language": "python",
   "name": "conda-env-DATA558-py"
  },
  "language_info": {
   "codemirror_mode": {
    "name": "ipython",
    "version": 3
   },
   "file_extension": ".py",
   "mimetype": "text/x-python",
   "name": "python",
   "nbconvert_exporter": "python",
   "pygments_lexer": "ipython3",
   "version": "3.7.10"
  }
 },
 "nbformat": 4,
 "nbformat_minor": 5
}
