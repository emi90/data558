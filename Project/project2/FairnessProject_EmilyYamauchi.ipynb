{
 "cells": [
  {
   "cell_type": "markdown",
   "id": "fourth-sacrifice",
   "metadata": {},
   "source": [
    "# <center>Data Science Project Part 2:  Fairness </center>\n",
    "<center>DATA 558, Spring 2021</center>\n",
    "<center>TAs: Alec Greaves-Tunnell and Ronak Mehta</center>\n"
   ]
  },
  {
   "cell_type": "markdown",
   "id": "known-notice",
   "metadata": {},
   "source": [
    "## Instructions\n",
    "\n",
    "Welcome back to the DATA 558 project! Let's begin with a brief reminder of the format: each week, you will receive a notebook containing a data analysis involving the Animals with Attributes 2 (AwA2) dataset. The notebook will claim to meet some statistical or machine learning criterion relevant to the week's lecture topic. Your goal is to investigate and critique this analysis.\n",
    "\n",
    "__Objective__: This notebook claims to implement a new method for classification of the AwA2 animals that is fair with respect to a given attribute. There are no mistakes in the syntax; each cell runs and returns a plausible result. However, there are several mistakes from a statistical and conceptual perspective. Working with your partner, you are expected to provide (1) a list of these mistakes and (2) a justification for why each item you list in (1) is a mistake. Justification can take many forms, including but not limited to a __detailed comment__, a __code example showing the problem__, or (perhaps simplest in some cases) a __direct fix of the code and demonstration that the problem is resolved__.\n",
    "\n",
    "\n",
    "__Deliverable__: Please submit to Gradescope __a copy of this notebook with your findings and comments__. Please use the cell below to summarize the mistakes you found. That is, for each mistake, write a (short) indication of what the mistake is and where you found it. For every item in this summary, you are expected to provide a matching justification in the notebook with the same label - e.g. for mistake `A`, include in the notebook a justification (again, this may be a comment, code block, etc.) at the location where this mistake is made, also labeled `A`.\n",
    "\n"
   ]
  },
  {
   "cell_type": "markdown",
   "id": "desirable-print",
   "metadata": {},
   "source": [
    "#### Name: Emily Yamauchi\n",
    "#### Partner: Mayura Patwardhan\n",
    "#### Summary of findings:\n",
    "\n",
    "    DefinitelyFairModel:\n",
    "    A: dfm.predict() --> Take test data vs train data\n",
    "\n",
    "    B: equalized_odds_difference() --> Take test data vs train data\n",
    "    \n",
    "    C: Bigger picture:\n",
    "    Separting out the protected features and training/predicting seperately does not achieve fairness under either demographic parity or equalized odds evaluation methods. We see that when the attribute=0, the model performs close to the naive model, but the attribute=1 model achieves near perfect prediction (cave is highly correlated with paws?).\n",
    "    \n",
    "    ..."
   ]
  },
  {
   "cell_type": "code",
   "execution_count": 1,
   "id": "phantom-industry",
   "metadata": {},
   "outputs": [],
   "source": [
    "import copy\n",
    "import pickle\n",
    "import numpy as np\n",
    "import pandas as pd\n",
    "\n",
    "import matplotlib.pyplot as plt\n",
    "\n",
    "from sklearn.linear_model import LogisticRegression\n",
    "from sklearn.tree import DecisionTreeClassifier\n",
    "from sklearn.metrics import r2_score, plot_roc_curve, roc_auc_score, balanced_accuracy_score\n",
    "from sklearn.model_selection import train_test_split\n",
    "\n",
    "from fairlearn.metrics import equalized_odds_difference, demographic_parity_difference"
   ]
  },
  {
   "cell_type": "markdown",
   "id": "rubber-purpose",
   "metadata": {},
   "source": [
    "## Dataset: Animals with Attributes v2\n",
    "\n",
    "The data consists of $n=5000$ examples from the `Animals with Attributes 2` dataset. In particular we have:\n",
    "\n",
    "- $X \\in \\mathbb{R}^{n\\times d}$, a $d=128$ dimensional random projection of the image data\n",
    "- $Y \\in \\{0,1\\}^n$, a binary label indicating whether the animal has the `paws` attribute\n",
    "- $A \\in \\{0,1\\}^n$, a binary label indicating whether the animal has the `cave` attribute\n",
    "\n",
    "Our goal is to train a model to predict whether an animal has `paws` from the projected image data, in such a way that is fair with respect to whether or not the animal lives in a `cave`."
   ]
  },
  {
   "cell_type": "code",
   "execution_count": 2,
   "id": "comparable-purse",
   "metadata": {},
   "outputs": [],
   "source": [
    "data = pickle.load(open(\"fairness_data.pkl\", \"rb\"))\n",
    "\n",
    "X = data['X']\n",
    "y = data['y']\n",
    "A = data['A']\n",
    "A_str = pd.DataFrame(A)[0].map({0: 'No cave', 1: 'Cave'})"
   ]
  },
  {
   "cell_type": "code",
   "execution_count": 3,
   "id": "instrumental-reputation",
   "metadata": {},
   "outputs": [],
   "source": [
    "X_train, X_test, y_train, y_test, A_train, A_test = train_test_split(X, \n",
    "                                                                  y, \n",
    "                                                                  A, \n",
    "                                                                  test_size = 0.2, \n",
    "                                                                  random_state=12345,\n",
    "                                                                  stratify=y)"
   ]
  },
  {
   "cell_type": "markdown",
   "id": "faced-attention",
   "metadata": {},
   "source": [
    "The analysis you are expected to critique begins below."
   ]
  },
  {
   "cell_type": "markdown",
   "id": "portable-begin",
   "metadata": {},
   "source": [
    "## A first pass at fairness\n",
    "\n",
    "You are joined on this project by a colleague, a budding machine learning scientist who dreams of developing the next great method in ML. After some initial data exploration, they report a simple finding:"
   ]
  },
  {
   "cell_type": "code",
   "execution_count": 4,
   "id": "gorgeous-brake",
   "metadata": {},
   "outputs": [
    {
     "data": {
      "text/plain": [
       "0    0.9345\n",
       "1    0.0655\n",
       "dtype: float64"
      ]
     },
     "execution_count": 4,
     "metadata": {},
     "output_type": "execute_result"
    }
   ],
   "source": [
    "pd.DataFrame(A_train).value_counts(normalize=True)"
   ]
  },
  {
   "cell_type": "code",
   "execution_count": 5,
   "id": "renewable-honor",
   "metadata": {},
   "outputs": [
    {
     "name": "stdout",
     "output_type": "stream",
     "text": [
      "0:  0    0.9345\n",
      "dtype: float64\n",
      "1:  0    0.0655\n",
      "dtype: float64\n"
     ]
    }
   ],
   "source": [
    "df = pd.DataFrame(A_train)\n",
    "print('0: ',df.loc[df[0] == 0].count()/len(df))\n",
    "print('1: ',df.loc[df[0] == 1].count()/len(df))"
   ]
  },
  {
   "cell_type": "markdown",
   "id": "normal-fifty",
   "metadata": {},
   "source": [
    "\"Hardly any animals in this dataset actually live in caves! I think we can do better if we focus the modeling effort on the non-cave animals. But don't worry, I also know how to make the model completely fair in terms of its predictions.\"\n",
    "\n",
    "Some time later they return with the following implementation:"
   ]
  },
  {
   "cell_type": "code",
   "execution_count": 6,
   "id": "aboriginal-arthritis",
   "metadata": {},
   "outputs": [],
   "source": [
    "class FairClassifier:\n",
    "    def __init__(self, clf):\n",
    "        self.base_clf = clf\n",
    "        \n",
    "    def fit(self, X, y, A):\n",
    "        counter = pd.DataFrame(A).value_counts()\n",
    "        self.a = counter.index[0][counter.argmax()]\n",
    "        self.maj_clf = self.base_clf.fit(X[A==self.a], y[A==self.a])\n",
    "        self.pos_prob = np.mean(self.base_clf.predict(X[A==self.a]))\n",
    "        \n",
    "    def predict(self, X, A):\n",
    "        preds = np.zeros(X.shape[0])\n",
    "        preds[A==self.a] = self.base_clf.predict(X[A==self.a])\n",
    "        preds[A!=self.a] = np.random.binomial(1, \n",
    "                                              self.pos_prob,\n",
    "                                              size=len(preds[A!=self.a]))\n",
    "        return preds"
   ]
  },
  {
   "cell_type": "code",
   "execution_count": 7,
   "id": "figured-middle",
   "metadata": {},
   "outputs": [],
   "source": [
    "clf = DecisionTreeClassifier(max_depth=64)\n",
    "fc = FairClassifier(clf)\n",
    "\n",
    "fc.fit(X_train, y_train, A_train)"
   ]
  },
  {
   "cell_type": "markdown",
   "id": "little-alignment",
   "metadata": {},
   "source": [
    "First, they demonstrate that the classifier achieves a satisfactory level of predictive accuracy:"
   ]
  },
  {
   "cell_type": "code",
   "execution_count": 8,
   "id": "original-convertible",
   "metadata": {},
   "outputs": [
    {
     "data": {
      "text/plain": [
       "0.8603447024299771"
      ]
     },
     "execution_count": 8,
     "metadata": {},
     "output_type": "execute_result"
    }
   ],
   "source": [
    "preds = fc.predict(X_train, A_train)\n",
    "r2_score(y_train, preds) "
   ]
  },
  {
   "cell_type": "markdown",
   "id": "owned-absence",
   "metadata": {},
   "source": [
    "Next, they argue that the method is fair via the following analysis:"
   ]
  },
  {
   "cell_type": "code",
   "execution_count": 9,
   "id": "danish-uruguay",
   "metadata": {},
   "outputs": [
    {
     "data": {
      "text/html": [
       "<div>\n",
       "<style scoped>\n",
       "    .dataframe tbody tr th:only-of-type {\n",
       "        vertical-align: middle;\n",
       "    }\n",
       "\n",
       "    .dataframe tbody tr th {\n",
       "        vertical-align: top;\n",
       "    }\n",
       "\n",
       "    .dataframe thead th {\n",
       "        text-align: right;\n",
       "    }\n",
       "</style>\n",
       "<table border=\"1\" class=\"dataframe\">\n",
       "  <thead>\n",
       "    <tr style=\"text-align: right;\">\n",
       "      <th></th>\n",
       "      <th>No cave</th>\n",
       "      <th>Cave</th>\n",
       "    </tr>\n",
       "  </thead>\n",
       "  <tbody>\n",
       "    <tr>\n",
       "      <th>Prediction rate</th>\n",
       "      <td>0.441413</td>\n",
       "      <td>0.480916</td>\n",
       "    </tr>\n",
       "  </tbody>\n",
       "</table>\n",
       "</div>"
      ],
      "text/plain": [
       "                  No cave      Cave\n",
       "Prediction rate  0.441413  0.480916"
      ]
     },
     "execution_count": 9,
     "metadata": {},
     "output_type": "execute_result"
    }
   ],
   "source": [
    "pos_rates = pd.DataFrame({a: [np.mean(preds[A_train==a])] for a in np.unique(A_train)})\n",
    "pos_rates.columns = A_str.unique()\n",
    "pos_rates.index = ['Prediction rate']\n",
    "pos_rates"
   ]
  },
  {
   "cell_type": "code",
   "execution_count": 10,
   "id": "copyrighted-doubt",
   "metadata": {},
   "outputs": [
    {
     "data": {
      "text/plain": [
       "0.03950351047014572"
      ]
     },
     "execution_count": 10,
     "metadata": {},
     "output_type": "execute_result"
    }
   ],
   "source": [
    "demographic_parity_difference(y_train, preds, sensitive_features=A_train)"
   ]
  },
  {
   "cell_type": "markdown",
   "id": "alert-robert",
   "metadata": {},
   "source": [
    "Are you impressed by the `FairClassifier` scheme?"
   ]
  },
  {
   "cell_type": "markdown",
   "id": "bronze-discharge",
   "metadata": {},
   "source": [
    "## A new idea for fair classification\n",
    "\n",
    "After a blissfully uninterrupted afternoon of data science, your colleague bursts back into your office with a new and improved method:\n",
    "\n",
    "\"It's obvious that the best way to achieve fairness is to fit a model to each group - by minimizing the train error for each group separately, we guarantee that each group gets the best performance possible!\" "
   ]
  },
  {
   "cell_type": "code",
   "execution_count": 11,
   "id": "cheap-medline",
   "metadata": {},
   "outputs": [],
   "source": [
    "class DefinitelyFairModel:\n",
    "    def __init__(self, clf):\n",
    "        self.base_clf = clf\n",
    "        self.predictors = {}\n",
    "        \n",
    "    def fit(self, X, y, A):\n",
    "        for a in np.unique(A):\n",
    "            Xa = X[A==a]\n",
    "            ya = y[A==a]\n",
    "            clf = copy.copy(self.base_clf)\n",
    "            self.predictors[a] = clf.fit(Xa, ya)\n",
    "            \n",
    "    def predict(self, X, A):\n",
    "        preds = np.zeros(X.shape[0])\n",
    "        for a in np.unique(A):\n",
    "            preds[A==a] = self.predictors[a].predict(X[A==a])\n",
    "        return preds\n",
    "    \n",
    "    def predict_proba(self, X, A):\n",
    "        probs = np.zeros((X.shape[0], 2))\n",
    "        for a in np.unique(A):\n",
    "            probs[A==a] = self.predictors[a].predict_proba(X[A==a])\n",
    "        return probs"
   ]
  },
  {
   "cell_type": "markdown",
   "id": "similar-pavilion",
   "metadata": {},
   "source": [
    "##### Comment: \n",
    "\n",
    "DFM:   \n",
    "\n",
    "Fits the model based on subset of X, y, A, for each attribute a in A.  \n",
    "Using each model, then predicts values again based on the subset for each a in A."
   ]
  },
  {
   "cell_type": "markdown",
   "id": "impossible-beijing",
   "metadata": {},
   "source": [
    "Again, they claim that this new method demonstrates high accuracy. "
   ]
  },
  {
   "cell_type": "code",
   "execution_count": 12,
   "id": "italic-jefferson",
   "metadata": {},
   "outputs": [],
   "source": [
    "clf = LogisticRegression(C=1e-2, max_iter=250)\n",
    "\n",
    "dfm = DefinitelyFairModel(clf)\n",
    "dfm.fit(X_train, y_train, A_train)"
   ]
  },
  {
   "cell_type": "code",
   "execution_count": 13,
   "id": "listed-internet",
   "metadata": {},
   "outputs": [
    {
     "data": {
      "text/plain": [
       "0.8191514132186752"
      ]
     },
     "execution_count": 13,
     "metadata": {},
     "output_type": "execute_result"
    }
   ],
   "source": [
    "preds = dfm.predict(X_train, A_train)\n",
    "r2_score(y_train, preds)"
   ]
  },
  {
   "cell_type": "markdown",
   "id": "standing-dallas",
   "metadata": {},
   "source": [
    "###### Comment:  \n",
    "\n",
    "`dfm.predict()` should take X_test, A_test."
   ]
  },
  {
   "cell_type": "code",
   "execution_count": 16,
   "id": "eight-category",
   "metadata": {},
   "outputs": [
    {
     "data": {
      "text/plain": [
       "0.7548665027085243"
      ]
     },
     "execution_count": 16,
     "metadata": {},
     "output_type": "execute_result"
    }
   ],
   "source": [
    "preds_fix = dfm.predict(X_test, A_test)\n",
    "r2_score(y_test, preds_fix)"
   ]
  },
  {
   "cell_type": "markdown",
   "id": "pleasant-dakota",
   "metadata": {},
   "source": [
    "And not only does it achieve high accuracy, but it also seems to have excellent performance on each subgroup:"
   ]
  },
  {
   "cell_type": "code",
   "execution_count": 17,
   "id": "interior-allah",
   "metadata": {},
   "outputs": [],
   "source": [
    "def attr_ROC_curves(cls, X, A, Y, tau_range = np.linspace(0,1,51)):\n",
    "    curves = {}\n",
    "    all_probs = cls.predict_proba(X, A)[:, 1]\n",
    "    for a in np.unique(A):\n",
    "        curves[a] = []\n",
    "        prob_a = all_probs[A==a]\n",
    "        Ya = Y[A==a]\n",
    "        for t in tau_range:\n",
    "            pred = prob_a > t\n",
    "            curves[a] += [(np.mean(pred[Ya==0]), np.mean(pred[Ya==1]))] \n",
    "    return tau_range, curves"
   ]
  },
  {
   "cell_type": "code",
   "execution_count": 18,
   "id": "respiratory-summit",
   "metadata": {},
   "outputs": [
    {
     "data": {
      "image/png": "[encoded data removed]",
      "text/plain": [
       "<Figure size 432x288 with 1 Axes>"
      ]
     },
     "metadata": {
      "needs_background": "light"
     },
     "output_type": "display_data"
    }
   ],
   "source": [
    "taus, roc = attr_ROC_curves(dfm, X_train, A_train, y_train)\n",
    "\n",
    "for a in roc.keys():\n",
    "    fp = [x[0] for x in roc[a]]\n",
    "    tp = [x[1] for x in roc[a]]\n",
    "    \n",
    "    plt.plot(fp, tp, label=a)\n",
    "    \n",
    "plt.xlabel('False Positive Rate')\n",
    "plt.ylabel('True Positive Rate')\n",
    "plt.legend();"
   ]
  },
  {
   "cell_type": "code",
   "execution_count": 138,
   "id": "destroyed-bullet",
   "metadata": {},
   "outputs": [
    {
     "data": {
      "text/plain": [
       "<sklearn.metrics._plot.roc_curve.RocCurveDisplay at 0x7f6fac45c2d0>"
      ]
     },
     "execution_count": 138,
     "metadata": {},
     "output_type": "execute_result"
    },
    {
     "data": {
      "image/png": "[encoded data removed]",
      "text/plain": [
       "<Figure size 432x288 with 1 Axes>"
      ]
     },
     "metadata": {
      "needs_background": "light"
     },
     "output_type": "display_data"
    }
   ],
   "source": [
    "plot_roc_curve(base_m, X_train, y_train)"
   ]
  },
  {
   "cell_type": "markdown",
   "id": "outdoor-scene",
   "metadata": {},
   "source": [
    "##### Comment: \n",
    "\n",
    "Attribution ROC curve for A=0 is similar to the ROC curve for the data. A=1 is a near perfect model. Reasoning.. is this because the model is trained/predicted seperately, and so it is overfitted for when A=1?"
   ]
  },
  {
   "cell_type": "code",
   "execution_count": 131,
   "id": "catholic-microwave",
   "metadata": {},
   "outputs": [
    {
     "name": "stderr",
     "output_type": "stream",
     "text": [
      "/home/eyamauchi/miniconda3/envs/DATA558/lib/python3.7/site-packages/sklearn/linear_model/_logistic.py:765: ConvergenceWarning: lbfgs failed to converge (status=1):\n",
      "STOP: TOTAL NO. of ITERATIONS REACHED LIMIT.\n",
      "\n",
      "Increase the number of iterations (max_iter) or scale the data as shown in:\n",
      "    https://scikit-learn.org/stable/modules/preprocessing.html\n",
      "Please also refer to the documentation for alternative solver options:\n",
      "    https://scikit-learn.org/stable/modules/linear_model.html#logistic-regression\n",
      "  extra_warning_msg=_LOGISTIC_SOLVER_CONVERGENCE_MSG)\n"
     ]
    }
   ],
   "source": [
    "base_m = LogisticRegression().fit(X_train, y_train)\n",
    "\n",
    "def attr_ROC_curves_base(cls, X, A, Y, tau_range = np.linspace(0,1,51)):\n",
    "    ## <YOUR CODE HERE>\n",
    "    res = {}\n",
    "    all_probs = cls.predict_proba(X)[:, 1]\n",
    "    for a in np.unique(A):\n",
    "        res[a] = []\n",
    "        prob_a = all_probs[A==a]\n",
    "        Ya = Y[A==a]\n",
    "        for t in tau_range:\n",
    "            pred = prob_a > t\n",
    "            res[a] += [(np.mean(pred[Ya==0]), np.mean(pred[Ya==1]))] \n",
    "    return tau_range, res\n",
    "\n",
    "\n",
    "\n",
    "probs_base = base_m.predict_proba(X_train)[:,1] # probability belonging to class 1\n",
    "tau_range = np.linspace(0,1,51)\n",
    "res_base = {}\n",
    "for a in np.unique(A_train):\n",
    "    res_base[a] = []\n",
    "    prob_a_base = probs_base[A_train==a]\n",
    "    Ya_base = y_train[A_train==a]\n",
    "    for t in tau_range:\n",
    "        pred_base=prob_a_base > t # positive (meets threshold)\n",
    "        res_base[a] += [(np.mean(pred_base[Ya_base==0]), np.mean(pred_base[Ya_base==1]))] #false- ya=0, true- ya=1"
   ]
  },
  {
   "cell_type": "code",
   "execution_count": 89,
   "id": "known-oxygen",
   "metadata": {},
   "outputs": [
    {
     "data": {
      "image/png": "[encoded data removed]",
      "text/plain": [
       "<Figure size 432x288 with 1 Axes>"
      ]
     },
     "metadata": {
      "needs_background": "light"
     },
     "output_type": "display_data"
    }
   ],
   "source": [
    "for a in res_base.keys():\n",
    "    fp_base = [x[0] for x in res_base[a]]\n",
    "    tp_base = [x[1] for x in res_base[a]]\n",
    "    \n",
    "    plt.plot(fp_base, tp_base, label=a)\n",
    "plt.xlabel('False Positive Rate')\n",
    "plt.ylabel('True Positive Rate')\n",
    "plt.legend();"
   ]
  },
  {
   "cell_type": "markdown",
   "id": "sitting-prague",
   "metadata": {},
   "source": [
    "###### Comment: \n",
    "\n",
    "When evaluating base model (without training seperately for attributes), we see that A=1 is similarly near perfect prediction, whereas A=0 is close to random."
   ]
  },
  {
   "cell_type": "code",
   "execution_count": 19,
   "id": "outstanding-wiring",
   "metadata": {},
   "outputs": [
    {
     "data": {
      "text/plain": [
       "0.054545454545454564"
      ]
     },
     "execution_count": 19,
     "metadata": {},
     "output_type": "execute_result"
    }
   ],
   "source": [
    "equalized_odds_difference(y_train, preds, sensitive_features=A_train)"
   ]
  },
  {
   "cell_type": "markdown",
   "id": "similar-contribution",
   "metadata": {},
   "source": [
    "##### Comment:\n",
    "\n",
    "`equalized_odds_difference()` should take testing, not training data."
   ]
  },
  {
   "cell_type": "code",
   "execution_count": 97,
   "id": "urban-colombia",
   "metadata": {},
   "outputs": [
    {
     "data": {
      "text/plain": [
       "0.05009633911368015"
      ]
     },
     "execution_count": 97,
     "metadata": {},
     "output_type": "execute_result"
    }
   ],
   "source": [
    "equalized_odds_difference(y_test, preds_fix, sensitive_features=A_test)"
   ]
  },
  {
   "cell_type": "code",
   "execution_count": 96,
   "id": "worthy-oakland",
   "metadata": {},
   "outputs": [
    {
     "data": {
      "text/plain": [
       "0.730836793356755"
      ]
     },
     "execution_count": 96,
     "metadata": {},
     "output_type": "execute_result"
    }
   ],
   "source": [
    "y_pred = base_m.predict(X_test)\n",
    "equalized_odds_difference(y_test, y_pred, sensitive_features=A_test)"
   ]
  },
  {
   "cell_type": "code",
   "execution_count": 142,
   "id": "final-procedure",
   "metadata": {},
   "outputs": [],
   "source": [
    "def demo_parity_table(preds, A):\n",
    "    attr_probs = {a : preds[A==a].mean() for a in np.unique(A)}\n",
    "    return pd.DataFrame({'P(f(X)=1 | A=a)': attr_probs, 'P(f(X)=1)' : preds.mean()}).T\n",
    "\n",
    "def eq_odds_table(preds, A, Y):\n",
    "    res = {}\n",
    "    for a in np.unique(A):\n",
    "        a_ix = A==a\n",
    "        preds_a = preds[a_ix]\n",
    "        Y_a = Y[a_ix]\n",
    "        \n",
    "        res[a] = {'TPR' : np.mean(Y_a * preds_a)/np.mean(Y_a),\n",
    "                  'FPR': np.mean((1-Y_a)*preds_a)/np.mean(1-Y_a)}\n",
    "    return pd.DataFrame(res)"
   ]
  },
  {
   "cell_type": "code",
   "execution_count": 146,
   "id": "worse-avatar",
   "metadata": {},
   "outputs": [
    {
     "data": {
      "text/html": [
       "<div>\n",
       "<style scoped>\n",
       "    .dataframe tbody tr th:only-of-type {\n",
       "        vertical-align: middle;\n",
       "    }\n",
       "\n",
       "    .dataframe tbody tr th {\n",
       "        vertical-align: top;\n",
       "    }\n",
       "\n",
       "    .dataframe thead th {\n",
       "        text-align: right;\n",
       "    }\n",
       "</style>\n",
       "<table border=\"1\" class=\"dataframe\">\n",
       "  <thead>\n",
       "    <tr style=\"text-align: right;\">\n",
       "      <th></th>\n",
       "      <th>0</th>\n",
       "      <th>1</th>\n",
       "    </tr>\n",
       "  </thead>\n",
       "  <tbody>\n",
       "    <tr>\n",
       "      <th>P(f(X)=1 | A=a)</th>\n",
       "      <td>0.441413</td>\n",
       "      <td>0.812977</td>\n",
       "    </tr>\n",
       "    <tr>\n",
       "      <th>P(f(X)=1)</th>\n",
       "      <td>0.465750</td>\n",
       "      <td>0.465750</td>\n",
       "    </tr>\n",
       "  </tbody>\n",
       "</table>\n",
       "</div>"
      ],
      "text/plain": [
       "                        0         1\n",
       "P(f(X)=1 | A=a)  0.441413  0.812977\n",
       "P(f(X)=1)        0.465750  0.465750"
      ]
     },
     "execution_count": 146,
     "metadata": {},
     "output_type": "execute_result"
    }
   ],
   "source": [
    "demo_parity_table(preds, A_train)"
   ]
  },
  {
   "cell_type": "code",
   "execution_count": 147,
   "id": "connected-ebony",
   "metadata": {},
   "outputs": [
    {
     "data": {
      "text/html": [
       "<div>\n",
       "<style scoped>\n",
       "    .dataframe tbody tr th:only-of-type {\n",
       "        vertical-align: middle;\n",
       "    }\n",
       "\n",
       "    .dataframe tbody tr th {\n",
       "        vertical-align: top;\n",
       "    }\n",
       "\n",
       "    .dataframe thead th {\n",
       "        text-align: right;\n",
       "    }\n",
       "</style>\n",
       "<table border=\"1\" class=\"dataframe\">\n",
       "  <thead>\n",
       "    <tr style=\"text-align: right;\">\n",
       "      <th></th>\n",
       "      <th>0</th>\n",
       "      <th>1</th>\n",
       "    </tr>\n",
       "  </thead>\n",
       "  <tbody>\n",
       "    <tr>\n",
       "      <th>TPR</th>\n",
       "      <td>0.945455</td>\n",
       "      <td>1.0</td>\n",
       "    </tr>\n",
       "    <tr>\n",
       "      <th>FPR</th>\n",
       "      <td>0.043103</td>\n",
       "      <td>0.0</td>\n",
       "    </tr>\n",
       "  </tbody>\n",
       "</table>\n",
       "</div>"
      ],
      "text/plain": [
       "            0    1\n",
       "TPR  0.945455  1.0\n",
       "FPR  0.043103  0.0"
      ]
     },
     "execution_count": 147,
     "metadata": {},
     "output_type": "execute_result"
    }
   ],
   "source": [
    "eq_odds_table(preds, A_train, y_train)"
   ]
  },
  {
   "cell_type": "markdown",
   "id": "sapphire-leeds",
   "metadata": {},
   "source": [
    "###### Comment:\n",
    "\n",
    "The `DefinitelyFairModel` achieves neither demographic parity nor equalized odds."
   ]
  },
  {
   "cell_type": "markdown",
   "id": "standing-crash",
   "metadata": {},
   "source": [
    "What do you think of the `DefinitelyFairClassifier`?"
   ]
  },
  {
   "cell_type": "code",
   "execution_count": 134,
   "id": "convertible-cowboy",
   "metadata": {},
   "outputs": [],
   "source": [
    "n = 4000\n",
    "d = 30\n",
    "\n",
    "x_random = np.random.rand(n, d)\n",
    "y_random = np.random.randint(2, size = n)\n",
    "a_random = np.random.randint(2, size = n)\n",
    "\n",
    "\n",
    "Xr_train, Xr_test, yr_train, yr_test, Ar_train, Ar_test = train_test_split(x_random, \n",
    "                                                                           y_random, \n",
    "                                                                           a_random, \n",
    "                                                                           test_size = 0.2, \n",
    "                                                                           random_state=12345,\n",
    "                                                                           stratify=y_random)"
   ]
  },
  {
   "cell_type": "code",
   "execution_count": 135,
   "id": "suspended-maine",
   "metadata": {},
   "outputs": [],
   "source": [
    "m_random = LogisticRegression().fit(Xr_train, yr_train)\n",
    "pred_random = m_random.predict(Xr_test)\n",
    "\n",
    "tau_random, res_random = attr_ROC_curves_base(m_random, Xr_train, Ar_train, yr_train)"
   ]
  },
  {
   "cell_type": "code",
   "execution_count": 136,
   "id": "norman-latest",
   "metadata": {},
   "outputs": [
    {
     "data": {
      "image/png": "[encoded data removed]",
      "text/plain": [
       "<Figure size 432x288 with 1 Axes>"
      ]
     },
     "metadata": {
      "needs_background": "light"
     },
     "output_type": "display_data"
    }
   ],
   "source": [
    "for a in res_random.keys():\n",
    "    fp_rand = [x[0] for x in res_random[a]]\n",
    "    tp_rand = [x[1] for x in res_random[a]]\n",
    "    \n",
    "    plt.plot(fp_rand, tp_rand, label=a)\n",
    "    \n",
    "plt.xlabel('False Positive Rate')\n",
    "plt.ylabel('True Positive Rate')\n",
    "plt.legend();"
   ]
  },
  {
   "cell_type": "code",
   "execution_count": 141,
   "id": "incident-bacon",
   "metadata": {},
   "outputs": [
    {
     "data": {
      "text/plain": [
       "0.07601112234580387"
      ]
     },
     "execution_count": 141,
     "metadata": {},
     "output_type": "execute_result"
    }
   ],
   "source": [
    "equalized_odds_difference(yr_test, pred_random, sensitive_features = Ar_test)"
   ]
  },
  {
   "cell_type": "code",
   "execution_count": 137,
   "id": "italian-seminar",
   "metadata": {},
   "outputs": [
    {
     "data": {
      "text/plain": [
       "<sklearn.metrics._plot.roc_curve.RocCurveDisplay at 0x7f6fad18fa10>"
      ]
     },
     "execution_count": 137,
     "metadata": {},
     "output_type": "execute_result"
    },
    {
     "data": {
      "image/png": "[encoded data removed]",
      "text/plain": [
       "<Figure size 432x288 with 1 Axes>"
      ]
     },
     "metadata": {
      "needs_background": "light"
     },
     "output_type": "display_data"
    }
   ],
   "source": [
    "plot_roc_curve(m_random, Xr_train, yr_train)"
   ]
  },
  {
   "cell_type": "code",
   "execution_count": null,
   "id": "increasing-robinson",
   "metadata": {},
   "outputs": [],
   "source": []
  },
  {
   "cell_type": "markdown",
   "id": "acceptable-arizona",
   "metadata": {},
   "source": [
    "## A new state-of-the-art method in fair ML?\n",
    "\n",
    "Your colleague concludes with a final claim: \"There's no way to train a logistic regression model that beats my `DefinitelyFairClassifier` - it dominates all the rest in terms of fairness and accuracy. I even went through the MSR `fairlearn` package, and their method doesn't even come close. I'm going to be up to my eyeballs in job offers with my new state-of-the-art method!\"\n",
    "\n",
    "They justify this claim with the following analysis:"
   ]
  },
  {
   "cell_type": "code",
   "execution_count": null,
   "id": "simplified-being",
   "metadata": {},
   "outputs": [],
   "source": [
    "from fairlearn.reductions import GridSearch, EqualizedOdds"
   ]
  },
  {
   "cell_type": "code",
   "execution_count": null,
   "id": "regulated-signature",
   "metadata": {},
   "outputs": [],
   "source": [
    "model = LogisticRegression(C=1e-2, max_iter=250) # same base model as in `DefinitelyFairClassifier`\n",
    "\n",
    "sweep = GridSearch(model,\n",
    "                   constraints=EqualizedOdds(),\n",
    "                   grid_size=7,\n",
    "                  grid_limit=0.5)\n",
    "\n",
    "sweep.fit(X_train, y_train, sensitive_features=A_train)"
   ]
  },
  {
   "cell_type": "code",
   "execution_count": null,
   "id": "departmental-beauty",
   "metadata": {},
   "outputs": [],
   "source": [
    "# compute scores, predictions, and fairness / accuracy metrics for each model in the sweep\n",
    "sweep_preds = [predictor.predict(X_train) for predictor in sweep.predictors_] \n",
    "sweep_scores = [predictor.predict_proba(X_train)[:, 1] for predictor in sweep.predictors_]\n",
    "\n",
    "equalized_odds_sweep = [\n",
    "    equalized_odds_difference(y_train, preds, sensitive_features=A_train)\n",
    "    for preds in sweep_preds\n",
    "]\n",
    "auc_sweep = [roc_auc_score(y_train, scores) for scores in sweep_scores]\n",
    "\n",
    "all_results = pd.DataFrame(\n",
    "    {\"predictor\": sweep.predictors_, \"accuracy\": auc_sweep, \"disparity\": equalized_odds_sweep}\n",
    ") \n",
    "non_dominated = [] \n",
    "for row in all_results.itertuples(): \n",
    "    accuracy_for_lower_or_eq_disparity = all_results[\"accuracy\"][all_results[\"disparity\"] <= row.disparity] \n",
    "    if row.accuracy >= accuracy_for_lower_or_eq_disparity.max(): \n",
    "        non_dominated.append(True)\n",
    "    else:\n",
    "        non_dominated.append(False)\n",
    "\n",
    "equalized_odds_sweep_non_dominated = np.asarray(equalized_odds_sweep)[non_dominated]\n",
    "auc_non_dominated = np.asarray(auc_sweep)[non_dominated]"
   ]
  },
  {
   "cell_type": "code",
   "execution_count": null,
   "id": "macro-grass",
   "metadata": {},
   "outputs": [],
   "source": [
    "# get comparable results for the DFC\n",
    "train_preds = dfm.predict(X_train, A_train)\n",
    "train_scores = dfm.predict_proba(X_train, A_train)\n",
    "\n",
    "dfm_auc = roc_auc_score(y_train, train_scores[:,1])\n",
    "dfm_eod = equalized_odds_difference(y_train, train_preds, sensitive_features=A_train)"
   ]
  },
  {
   "cell_type": "code",
   "execution_count": null,
   "id": "celtic-rebound",
   "metadata": {},
   "outputs": [],
   "source": [
    "# plot results \n",
    "plt.scatter(auc_non_dominated, equalized_odds_sweep_non_dominated, label=\"Grid Search Models\")\n",
    "plt.scatter(dfm_auc, dfm_eod, label=\"DefinitelyFair Model\")\n",
    "\n",
    "plt.xlabel(\"AUC\")\n",
    "plt.ylabel(\"Equalized Odds Difference\")\n",
    "plt.legend(bbox_to_anchor=(1.55, 1))\n",
    "plt.xlim([0.97,1])\n",
    "plt.xticks([1.0])\n",
    "plt.show()"
   ]
  },
  {
   "cell_type": "code",
   "execution_count": null,
   "id": "turned-headline",
   "metadata": {},
   "outputs": [],
   "source": []
  }
 ],
 "metadata": {
  "kernelspec": {
   "display_name": "Python 3",
   "language": "python",
   "name": "python3"
  },
  "language_info": {
   "codemirror_mode": {
    "name": "ipython",
    "version": 3
   },
   "file_extension": ".py",
   "mimetype": "text/x-python",
   "name": "python",
   "nbconvert_exporter": "python",
   "pygments_lexer": "ipython3",
   "version": "3.7.10"
  }
 },
 "nbformat": 4,
 "nbformat_minor": 5
}
